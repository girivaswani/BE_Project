{
 "cells": [
  {
   "cell_type": "markdown",
   "id": "49c5e0a0",
   "metadata": {},
   "source": [
    "# Import Files"
   ]
  },
  {
   "cell_type": "code",
   "execution_count": 1,
   "id": "79682727",
   "metadata": {},
   "outputs": [
    {
     "name": "stdout",
     "output_type": "stream",
     "text": [
      "93 images loaded\n"
     ]
    }
   ],
   "source": [
    "from os import listdir\n",
    "from os.path import isfile, join\n",
    "mypath = \"../images\"\n",
    "file_names = [f for f in listdir(mypath) if isfile(join(mypath, f))]\n",
    "print(str(len(file_names)) + ' images loaded')"
   ]
  },
  {
   "cell_type": "code",
   "execution_count": 2,
   "id": "2b220380",
   "metadata": {},
   "outputs": [],
   "source": [
    "from tensorflow.keras.preprocessing.image import ImageDataGenerator,array_to_img,img_to_array,load_img\n",
    "from tensorflow.keras.applications.resnet50 import preprocess_input\n",
    "\n",
    "import matplotlib.pyplot as plt\n",
    "import numpy as np\n",
    "\n",
    "import cv2\n",
    "\n",
    "from tensorflow.keras.preprocessing import image\n",
    "from tensorflow.keras.applications.mobilenet_v2 import preprocess_input"
   ]
  },
  {
   "cell_type": "code",
   "execution_count": 3,
   "id": "d0138130",
   "metadata": {},
   "outputs": [],
   "source": [
    "from joblib import dump, load"
   ]
  },
  {
   "cell_type": "markdown",
   "id": "a4eae3bd",
   "metadata": {},
   "source": [
    "# Preprocess Image"
   ]
  },
  {
   "cell_type": "code",
   "execution_count": 4,
   "id": "95ab464f",
   "metadata": {},
   "outputs": [],
   "source": [
    "#function to preprocess normal image \n",
    "def prepocessImage(filename):\n",
    "    img = cv2.imread(filename)\n",
    "    img = cv2.resize(img, (224,224), interpolation = cv2.INTER_AREA)\n",
    "    frame = img\n",
    "    hsv = cv2.cvtColor(frame, cv2.COLOR_BGR2HSV)\n",
    "    sensitivity = 156\n",
    "    lower_white = np.array([0,0,255-sensitivity])\n",
    "    upper_white = np.array([255,sensitivity,255])\n",
    "    # Threshold the HSV image to get only white colors\n",
    "    mask = cv2.inRange(hsv, lower_white, upper_white)\n",
    "    # Bitwise-AND mask and original image\n",
    "    res = cv2.bitwise_and(frame,frame, mask= mask)\n",
    "    ret, thresh = cv2.threshold(mask, 0, 255, cv2.THRESH_BINARY_INV)\n",
    "    circles = cv2.HoughCircles(mask, cv2.HOUGH_GRADIENT, 1.5, 100000,param1=80,param2=40,minRadius=0,maxRadius=0)\n",
    "    x,y,r = 0,0,0\n",
    "    if circles is not None:\n",
    "      circles = np.uint16(np.around(circles))\n",
    "      x,y,r = circles[0][0]\n",
    "      x=int(x)\n",
    "      y=int(y)\n",
    "      r=int(r)\n",
    "    mask = np.zeros((224,224), np.uint8)\n",
    "    cv2.circle(mask,(x,y),r,(255,255,255),-1)\n",
    "    masked_data = cv2.bitwise_and(frame, frame, mask=mask)\n",
    "    _,thresh = cv2.threshold(mask,1,255,cv2.THRESH_BINARY)\n",
    "    cnt = cv2.findContours(thresh,cv2.RETR_EXTERNAL,cv2.CHAIN_APPROX_SIMPLE)[0]\n",
    "    x,y,w,h = cv2.boundingRect(cnt[0])\n",
    "\n",
    "    # Crop masked_data\n",
    "    crop = masked_data[y:y+h,x:x+w]\n",
    "    crop = cv2.resize(crop, (224,224), interpolation = cv2.INTER_AREA)\n",
    "    #preprocess the image\n",
    "    my_image = preprocess_input(crop)\n",
    "    crop = cv2.cvtColor(crop, cv2.COLOR_BGR2GRAY)\n",
    "#     my_image = img_to_array(crop)\n",
    "#     plt.imshow(my_image)\n",
    "#     my_image = my_image.reshape((1, my_image.shape[0], my_image.shape[1], my_image.shape[2]))\n",
    "#     return my_image\n",
    "    # preprocessed shape = (1,224,224,1)\n",
    "    return crop"
   ]
  },
  {
   "cell_type": "markdown",
   "id": "d3b131f3",
   "metadata": {},
   "source": [
    "# SIFT"
   ]
  },
  {
   "cell_type": "code",
   "execution_count": 5,
   "id": "73a39d01",
   "metadata": {},
   "outputs": [
    {
     "name": "stdout",
     "output_type": "stream",
     "text": [
      "Testing and validation split done!\n"
     ]
    }
   ],
   "source": [
    "# from skimage.feature import  graycomatrix, graycoprops\n",
    "images_sift = []\n",
    "# glcm=[]\n",
    "labels = []\n",
    "size = 128\n",
    "sift = cv2.SIFT_create()\n",
    "cataract=0\n",
    "normal=0\n",
    "for i, file in enumerate(file_names):\n",
    "#         print(file)\n",
    "        image = cv2.imread(mypath+\"/\"+file,0)\n",
    "        h,w=image.shape\n",
    "#         if(h>128 and w>128):\n",
    "        img = prepocessImage(mypath+\"/\"+file)\n",
    "#         image = cv2.resize(img, (size, size), interpolation = cv2.INTER_AREA)\n",
    "        img_arr = np.array(img)\n",
    "#         gCoMat = graycomatrix(img_arr, [1], [0],256,symmetric=True, normed=True) # Co-occurance matrix\n",
    "#         contrast = graycoprops(gCoMat, prop='contrast')[0][0]\n",
    "#         dissimilarity = graycoprops(gCoMat, prop='dissimilarity')[0][0]\n",
    "#         homogeneity = graycoprops(gCoMat, prop='homogeneity')[0][0]\n",
    "#         energy = graycoprops(gCoMat, prop='energy')[0][0]\n",
    "#         correlation = graycoprops(gCoMat, prop='correlation')[0][0]\n",
    "        keypoints, descriptors = sift.detectAndCompute(image,None)\n",
    "        descriptors=np.array(descriptors)\n",
    "        descriptors=descriptors.flatten()\n",
    "#         glcm.append([contrast,dissimilarity,homogeneity,energy,correlation])\n",
    "#         images_sift.append(len(descriptors))\n",
    "        images_sift.append(descriptors[:3456])\n",
    "\n",
    "        #print(descriptors.shape)\n",
    "        if file_names[i][0] == \"c\":\n",
    "            cataract+=1\n",
    "            labels.append(1)\n",
    "        if file_names[i][0] == \"n\":\n",
    "            normal+=1\n",
    "            labels.append(0)\n",
    "\n",
    "print(\"Testing and validation split done!\")\n"
   ]
  },
  {
   "cell_type": "code",
   "execution_count": 6,
   "id": "8e89dcda",
   "metadata": {},
   "outputs": [
    {
     "data": {
      "text/plain": [
       "(93, 3456)"
      ]
     },
     "execution_count": 6,
     "metadata": {},
     "output_type": "execute_result"
    }
   ],
   "source": [
    "images_sift=np.array(images_sift)\n",
    "images_sift.shape"
   ]
  },
  {
   "cell_type": "code",
   "execution_count": 7,
   "id": "1feccf3b",
   "metadata": {},
   "outputs": [],
   "source": [
    "from sklearn import preprocessing\n",
    "import pandas as pd\n",
    "from sklearn.model_selection import cross_val_score\n",
    "from sklearn.ensemble import RandomForestClassifier  \n",
    "from sklearn.metrics import confusion_matrix  \n",
    "from sklearn.model_selection import train_test_split\n",
    "from sklearn.metrics import accuracy_score"
   ]
  },
  {
   "cell_type": "code",
   "execution_count": 8,
   "id": "2c3d6ada",
   "metadata": {},
   "outputs": [],
   "source": [
    "from matplotlib import pyplot as plt\n",
    "import seaborn as sns"
   ]
  },
  {
   "cell_type": "code",
   "execution_count": 9,
   "id": "c6f52bd7",
   "metadata": {},
   "outputs": [],
   "source": [
    "# To change scientific numbers to float\n",
    "np.set_printoptions(formatter={'float_kind':'{:f}'.format})\n",
    "\n",
    "# Increases the size of sns plots\n",
    "sns.set(rc={'figure.figsize':(12,10)})"
   ]
  },
  {
   "cell_type": "code",
   "execution_count": 10,
   "id": "01f9511d",
   "metadata": {},
   "outputs": [],
   "source": [
    "# Confusion Matrix function\n",
    "\n",
    "def plot_confusion_matrix(cm, classes=None, title='Confusion matrix'):\n",
    "    \"\"\"Plots a confusion matrix.\"\"\"\n",
    "    if classes is not None:\n",
    "        sns.heatmap(cm, xticklabels=classes, yticklabels=classes, vmin=0., vmax=1., annot=True, annot_kws={'size':50})\n",
    "    else:\n",
    "        sns.heatmap(cm, vmin=0., vmax=1.)\n",
    "    plt.title(title)\n",
    "    plt.ylabel('True label')\n",
    "    plt.xlabel('Predicted label')"
   ]
  },
  {
   "cell_type": "code",
   "execution_count": 11,
   "id": "d8fb6446",
   "metadata": {},
   "outputs": [],
   "source": [
    "df=pd.DataFrame(data=images_sift)\n",
    "df['label']=labels\n",
    "df=df.sample(frac=1)\n",
    "X=df.drop(['label'], axis = 1)\n",
    "y=df['label']\n",
    "\n",
    "\n",
    "#Different model\n",
    "X_train_images_sift, X_test_images_sift, y_train_images_sift, y_test_images_sift = train_test_split(X, y, test_size=0.25,random_state=93)"
   ]
  },
  {
   "cell_type": "code",
   "execution_count": 15,
   "id": "ec8292bd",
   "metadata": {},
   "outputs": [
    {
     "name": "stdout",
     "output_type": "stream",
     "text": [
      "Classification accuracy on test set with max features = 1 and max_depth = None: 0.417\n",
      "Classification accuracy on test set with max features = 1 and max_depth = 2: 0.500\n",
      "Classification accuracy on test set with max features = 1 and max_depth = 3: 0.583\n",
      "rf_cross_val : 0.62\n"
     ]
    },
    {
     "data": {
      "image/png": "[encoded data removed]",
      "text/plain": [
       "<Figure size 864x720 with 2 Axes>"
      ]
     },
     "metadata": {},
     "output_type": "display_data"
    }
   ],
   "source": [
    "from itertools import product\n",
    "n_estimators = 100\n",
    "max_features = [1, 'sqrt', 'log2']\n",
    "max_depths = [None, 2, 3, 4, 5]\n",
    "for f, d in product(max_features, max_depths): # with product we can iterate through all possible combinations\n",
    "    rf = RandomForestClassifier(n_estimators=n_estimators, \n",
    "                                criterion='entropy', \n",
    "                                max_features=f, \n",
    "                                max_depth=d, \n",
    "                                n_jobs=2,\n",
    "                                random_state=1337)\n",
    "    rf.fit(X_train_images_sift, y_train_images_sift)\n",
    "    prediction_test = rf.predict(X=X_test_images_sift)\n",
    "    acc_score=accuracy_score(y_test_images_sift,prediction_test)\n",
    "    print('Classification accuracy on test set with max features = {} and max_depth = {}: {:.3f}'.format(f, d, acc_score))\n",
    "    if acc_score>=0.84:\n",
    "        cm = confusion_matrix(y_test_images_sift, prediction_test)\n",
    "        cm_norm = cm/cm.sum(axis=1)[:, np.newaxis]\n",
    "        plt.figure()\n",
    "        plot_confusion_matrix(cm_norm, classes=rf.classes_,\n",
    "        title='Confusion matrix accuracy on test set with max features = {} and max_depth = {}: {:.3f}'.format(f, d, acc_score))\n",
    "        scores = cross_val_score(rf, X_test_images_sift, y_test_images_sift, cv=5)\n",
    "        mean=scores.mean()\n",
    "        print(\"rf_cross_val :\",mean)\n",
    "        if mean>=0.75:\n",
    "            dump(rf, 'Phase1_rf.joblib')\n",
    "            break\n",
    "        "
   ]
  },
  {
   "cell_type": "code",
   "execution_count": null,
   "id": "262617a7",
   "metadata": {},
   "outputs": [],
   "source": []
  }
 ],
 "metadata": {
  "kernelspec": {
   "display_name": "Python 3 (ipykernel)",
   "language": "python",
   "name": "python3"
  },
  "language_info": {
   "codemirror_mode": {
    "name": "ipython",
    "version": 3
   },
   "file_extension": ".py",
   "mimetype": "text/x-python",
   "name": "python",
   "nbconvert_exporter": "python",
   "pygments_lexer": "ipython3",
   "version": "3.8.1"
  }
 },
 "nbformat": 4,
 "nbformat_minor": 5
}
