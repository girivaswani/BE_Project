{
 "cells": [
  {
   "cell_type": "markdown",
   "id": "fe81cece",
   "metadata": {},
   "source": [
    "# Import Files"
   ]
  },
  {
   "cell_type": "code",
   "execution_count": 1,
   "id": "813e2105",
   "metadata": {},
   "outputs": [
    {
     "name": "stdout",
     "output_type": "stream",
     "text": [
      "97 images loaded\n"
     ]
    }
   ],
   "source": [
    "from os import listdir\n",
    "from os.path import isfile, join\n",
    "mypath = \"../images\"\n",
    "file_names = [f for f in listdir(mypath) if isfile(join(mypath, f))]\n",
    "print(str(len(file_names)) + ' images loaded')"
   ]
  },
  {
   "cell_type": "markdown",
   "id": "71297e06",
   "metadata": {},
   "source": [
    "# Sift and Glcm "
   ]
  },
  {
   "cell_type": "code",
   "execution_count": 2,
   "id": "8997774e",
   "metadata": {},
   "outputs": [
    {
     "name": "stdout",
     "output_type": "stream",
     "text": [
      "Testing and validation split done!\n"
     ]
    }
   ],
   "source": [
    "import cv2\n",
    "import numpy as np\n",
    "from skimage.feature import  graycomatrix, graycoprops\n",
    "images_sift = []\n",
    "glcm=[]\n",
    "labels = []\n",
    "size = 128\n",
    "sift = cv2.SIFT_create()\n",
    "cataract=0\n",
    "normal=0\n",
    "for i, file in enumerate(file_names):\n",
    "        image = cv2.imread(mypath+\"/\"+file,0)\n",
    "        h,w=image.shape\n",
    "#         if(h>128 and w>128):\n",
    "        image = cv2.resize(image, (size, size), interpolation = cv2.INTER_AREA)\n",
    "        img_arr = np.array(image)\n",
    "        gCoMat = graycomatrix(img_arr, [1], [0],256,symmetric=True, normed=True) # Co-occurance matrix\n",
    "        contrast = graycoprops(gCoMat, prop='contrast')[0][0]\n",
    "        dissimilarity = graycoprops(gCoMat, prop='dissimilarity')[0][0]\n",
    "        homogeneity = graycoprops(gCoMat, prop='homogeneity')[0][0]\n",
    "        energy = graycoprops(gCoMat, prop='energy')[0][0]\n",
    "        correlation = graycoprops(gCoMat, prop='correlation')[0][0]\n",
    "        keypoints, descriptors = sift.detectAndCompute(image,None)\n",
    "        descriptors=np.array(descriptors)\n",
    "        descriptors=descriptors.flatten()\n",
    "        glcm.append([contrast,dissimilarity,homogeneity,energy,correlation])\n",
    "        images_sift.append(descriptors[:2304])\n",
    "\n",
    "        #print(descriptors.shape)\n",
    "        if file_names[i][0] == \"c\":\n",
    "            cataract+=1\n",
    "            labels.append(1)\n",
    "        if file_names[i][0] == \"n\":\n",
    "            normal+=1\n",
    "            labels.append(0)\n",
    "\n",
    "print(\"Testing and validation split done!\")\n"
   ]
  },
  {
   "cell_type": "code",
   "execution_count": 3,
   "id": "61e0aedc",
   "metadata": {},
   "outputs": [
    {
     "data": {
      "text/plain": [
       "[1,\n",
       " 1,\n",
       " 1,\n",
       " 1,\n",
       " 1,\n",
       " 1,\n",
       " 1,\n",
       " 1,\n",
       " 1,\n",
       " 1,\n",
       " 1,\n",
       " 1,\n",
       " 1,\n",
       " 1,\n",
       " 1,\n",
       " 1,\n",
       " 1,\n",
       " 1,\n",
       " 1,\n",
       " 1,\n",
       " 1,\n",
       " 1,\n",
       " 1,\n",
       " 1,\n",
       " 1,\n",
       " 1,\n",
       " 1,\n",
       " 1,\n",
       " 1,\n",
       " 1,\n",
       " 1,\n",
       " 1,\n",
       " 1,\n",
       " 1,\n",
       " 1,\n",
       " 1,\n",
       " 1,\n",
       " 1,\n",
       " 1,\n",
       " 1,\n",
       " 1,\n",
       " 1,\n",
       " 1,\n",
       " 1,\n",
       " 1,\n",
       " 1,\n",
       " 1,\n",
       " 1,\n",
       " 1,\n",
       " 1,\n",
       " 1,\n",
       " 0,\n",
       " 0,\n",
       " 0,\n",
       " 0,\n",
       " 0,\n",
       " 0,\n",
       " 0,\n",
       " 0,\n",
       " 0,\n",
       " 0,\n",
       " 0,\n",
       " 0,\n",
       " 0,\n",
       " 0,\n",
       " 0,\n",
       " 0,\n",
       " 0,\n",
       " 0,\n",
       " 0,\n",
       " 0,\n",
       " 0,\n",
       " 0,\n",
       " 0,\n",
       " 0,\n",
       " 0,\n",
       " 0,\n",
       " 0,\n",
       " 0,\n",
       " 0,\n",
       " 0,\n",
       " 0,\n",
       " 0,\n",
       " 0,\n",
       " 0,\n",
       " 0,\n",
       " 0,\n",
       " 0,\n",
       " 0,\n",
       " 0,\n",
       " 0,\n",
       " 0,\n",
       " 0,\n",
       " 0,\n",
       " 0,\n",
       " 0,\n",
       " 0]"
      ]
     },
     "execution_count": 3,
     "metadata": {},
     "output_type": "execute_result"
    }
   ],
   "source": [
    "labels"
   ]
  },
  {
   "cell_type": "code",
   "execution_count": 4,
   "id": "60ec4466",
   "metadata": {},
   "outputs": [
    {
     "data": {
      "text/plain": [
       "97"
      ]
     },
     "execution_count": 4,
     "metadata": {},
     "output_type": "execute_result"
    }
   ],
   "source": [
    "len(labels)"
   ]
  },
  {
   "cell_type": "code",
   "execution_count": 5,
   "id": "984af0d8",
   "metadata": {},
   "outputs": [
    {
     "data": {
      "text/plain": [
       "(97, 2304)"
      ]
     },
     "execution_count": 5,
     "metadata": {},
     "output_type": "execute_result"
    }
   ],
   "source": [
    "images_sift=np.array(images_sift)\n",
    "images_sift.shape"
   ]
  },
  {
   "cell_type": "code",
   "execution_count": 6,
   "id": "6435f6e5",
   "metadata": {},
   "outputs": [
    {
     "data": {
      "text/plain": [
       "(97, 2309)"
      ]
     },
     "execution_count": 6,
     "metadata": {},
     "output_type": "execute_result"
    }
   ],
   "source": [
    "glcm=np.array(glcm)\n",
    "images_sift_glcm=np.concatenate((images_sift,glcm),axis=1)\n",
    "images_sift_glcm.shape"
   ]
  },
  {
   "cell_type": "code",
   "execution_count": 7,
   "id": "050016f4",
   "metadata": {},
   "outputs": [],
   "source": [
    "from sklearn import preprocessing\n",
    "import pandas as pd\n",
    "from sklearn.model_selection import KFold\n",
    "from sklearn.model_selection import cross_val_score\n",
    "from sklearn.ensemble import RandomForestClassifier\n",
    "from sklearn import svm\n",
    "from sklearn.linear_model import LogisticRegression\n",
    "from sklearn.neighbors import KNeighborsClassifier  \n",
    "from sklearn.metrics import confusion_matrix  \n",
    "from sklearn.model_selection import train_test_split\n",
    "from sklearn.metrics import accuracy_score\n",
    "\n",
    "\n",
    "# rf_class = RandomForestClassifier(n_estimators=100, criterion='entropy',max_features='sqrt', max_depth=3, n_jobs=2,\n",
    "# random_state=1337)\n",
    "# svm_poly=svm.SVC(kernel='poly',gamma=0.1,C=10)\n",
    "# knn= KNeighborsClassifier(n_neighbors=6, metric='minkowski', p=2) \n",
    "log = LogisticRegression(solver='saga',penalty='l1')\n",
    "\n",
    "# model_names={\"Random Forest\":rf_class,\"SVM\":svm_poly,\"k nearest neighbor\":knn,\"logistic regression\":log}"
   ]
  },
  {
   "cell_type": "code",
   "execution_count": 8,
   "id": "7e01553f",
   "metadata": {},
   "outputs": [],
   "source": [
    "# def testing(model_name,X_train, X_test, y_train, y_test):\n",
    "#     model=model_names[model_name]\n",
    "#     model.fit(X_train,y_train)\n",
    "#     yhat = model.predict(X_test)\n",
    "#     # evaluate predictions\n",
    "#     acc = accuracy_score(y_test, yhat)\n",
    "#     print(model_name,'\\tAccuracy: %.3f' % acc)\n",
    "#     print(confusion_matrix(y_test, yhat))\n",
    "#     print(\"\\n\\n\")"
   ]
  },
  {
   "cell_type": "code",
   "execution_count": 9,
   "id": "a54de2a1",
   "metadata": {},
   "outputs": [],
   "source": [
    "# def result(dataset):\n",
    "#     #Normalization\n",
    "#     #min_max_scaler = preprocessing.StandardScaler()\n",
    "#     #x_scaled = min_max_scaler.fit_transform(dataset)\n",
    "    \n",
    "    \n",
    "#     #panda dataframe \n",
    "#     df=pd.DataFrame(data=dataset)\n",
    "#     df['label']=labels\n",
    "#     df=df.sample(frac=1)\n",
    "#     X=df.drop(['label'], axis = 1)\n",
    "#     y=df['label']\n",
    "    \n",
    "    \n",
    "#     #Different model\n",
    "#     X_train, X_test, y_train, y_test = train_test_split(X, y, test_size=0.25)\n",
    "#     for model in [\"Random Forest\",\"SVM\",\"k nearest neighbor\",\"logistic regression\"]:\n",
    "#         testing(model,X_train, X_test, y_train, y_test)"
   ]
  },
  {
   "cell_type": "code",
   "execution_count": 11,
   "id": "9eeb591e",
   "metadata": {},
   "outputs": [],
   "source": [
    "df=pd.DataFrame(data=images_sift_glcm)\n",
    "df['label']=labels\n",
    "df=df.sample(frac=1)\n",
    "X=df.drop(['label'], axis = 1)\n",
    "y=df['label']\n",
    "#Different model\n",
    "X_train, X_test, y_train, y_test = train_test_split(X, y, test_size=0.25)"
   ]
  },
  {
   "cell_type": "code",
   "execution_count": 13,
   "id": "thrown-louisiana",
   "metadata": {},
   "outputs": [
    {
     "name": "stdout",
     "output_type": "stream",
     "text": [
      "\tAccuracy: 0.920\n",
      "[[10  0]\n",
      " [ 2 13]]\n",
      "\n",
      "\n",
      "\n"
     ]
    },
    {
     "name": "stderr",
     "output_type": "stream",
     "text": [
      "c:\\users\\nishi.suraj-pc\\appdata\\local\\programs\\python\\python38\\lib\\site-packages\\sklearn\\linear_model\\_sag.py:328: ConvergenceWarning: The max_iter was reached which means the coef_ did not converge\n",
      "  warnings.warn(\"The max_iter was reached which means \"\n"
     ]
    }
   ],
   "source": [
    "log.fit(X_train,y_train)\n",
    "yhat = log.predict(X_test)\n",
    "# evaluate predictions\n",
    "acc = accuracy_score(y_test, yhat)\n",
    "print('\\tAccuracy: %.3f' % acc)\n",
    "print(confusion_matrix(y_test, yhat))\n",
    "print(\"\\n\\n\")"
   ]
  },
  {
   "cell_type": "markdown",
   "id": "dated-virus",
   "metadata": {},
   "source": [
    "# Saving model"
   ]
  },
  {
   "cell_type": "code",
   "execution_count": 14,
   "id": "downtown-continent",
   "metadata": {},
   "outputs": [
    {
     "data": {
      "text/plain": [
       "['Phase1.joblib']"
      ]
     },
     "execution_count": 14,
     "metadata": {},
     "output_type": "execute_result"
    }
   ],
   "source": [
    "from joblib import dump, load\n",
    "dump(log, 'Phase1.joblib')"
   ]
  },
  {
   "cell_type": "code",
   "execution_count": 31,
   "id": "broken-progressive",
   "metadata": {},
   "outputs": [
    {
     "name": "stdout",
     "output_type": "stream",
     "text": [
      "[0]\n"
     ]
    }
   ],
   "source": [
    "model = load('Phase1.joblib') \n",
    "features = np.array([images_sift_glcm[67]])\n",
    "print(model.predict(features))"
   ]
  },
  {
   "cell_type": "markdown",
   "id": "furnished-meter",
   "metadata": {},
   "source": [
    "# Test model"
   ]
  },
  {
   "cell_type": "code",
   "execution_count": 32,
   "id": "twenty-pathology",
   "metadata": {},
   "outputs": [],
   "source": [
    "glcm_test, images_sift_test =[],[]\n",
    "glcm_sift_test = []"
   ]
  },
  {
   "cell_type": "code",
   "execution_count": 40,
   "id": "authorized-drive",
   "metadata": {},
   "outputs": [
    {
     "ename": "ValueError",
     "evalue": "The parameter `image` must be a 2-dimensional array",
     "output_type": "error",
     "traceback": [
      "\u001b[1;31m---------------------------------------------------------------------------\u001b[0m",
      "\u001b[1;31mValueError\u001b[0m                                Traceback (most recent call last)",
      "\u001b[1;32m<ipython-input-40-ec605285c710>\u001b[0m in \u001b[0;36m<module>\u001b[1;34m\u001b[0m\n\u001b[0;32m      4\u001b[0m \u001b[0mimage\u001b[0m \u001b[1;33m=\u001b[0m \u001b[0mcv2\u001b[0m\u001b[1;33m.\u001b[0m\u001b[0mresize\u001b[0m\u001b[1;33m(\u001b[0m\u001b[0mimage\u001b[0m\u001b[1;33m,\u001b[0m \u001b[1;33m(\u001b[0m\u001b[0msize\u001b[0m\u001b[1;33m,\u001b[0m \u001b[0msize\u001b[0m\u001b[1;33m)\u001b[0m\u001b[1;33m,\u001b[0m \u001b[0minterpolation\u001b[0m \u001b[1;33m=\u001b[0m \u001b[0mcv2\u001b[0m\u001b[1;33m.\u001b[0m\u001b[0mINTER_AREA\u001b[0m\u001b[1;33m)\u001b[0m\u001b[1;33m\u001b[0m\u001b[1;33m\u001b[0m\u001b[0m\n\u001b[0;32m      5\u001b[0m \u001b[0mimg_arr\u001b[0m \u001b[1;33m=\u001b[0m \u001b[0mnp\u001b[0m\u001b[1;33m.\u001b[0m\u001b[0marray\u001b[0m\u001b[1;33m(\u001b[0m\u001b[0mimage\u001b[0m\u001b[1;33m)\u001b[0m\u001b[1;33m\u001b[0m\u001b[1;33m\u001b[0m\u001b[0m\n\u001b[1;32m----> 6\u001b[1;33m \u001b[0mgCoMat\u001b[0m \u001b[1;33m=\u001b[0m \u001b[0mgraycomatrix\u001b[0m\u001b[1;33m(\u001b[0m\u001b[0mimg_arr\u001b[0m\u001b[1;33m,\u001b[0m \u001b[1;33m[\u001b[0m\u001b[1;36m1\u001b[0m\u001b[1;33m]\u001b[0m\u001b[1;33m,\u001b[0m \u001b[1;33m[\u001b[0m\u001b[1;36m0\u001b[0m\u001b[1;33m]\u001b[0m\u001b[1;33m,\u001b[0m\u001b[1;36m256\u001b[0m\u001b[1;33m,\u001b[0m\u001b[0msymmetric\u001b[0m\u001b[1;33m=\u001b[0m\u001b[1;32mTrue\u001b[0m\u001b[1;33m,\u001b[0m \u001b[0mnormed\u001b[0m\u001b[1;33m=\u001b[0m\u001b[1;32mTrue\u001b[0m\u001b[1;33m)\u001b[0m \u001b[1;31m# Co-occurance matrix\u001b[0m\u001b[1;33m\u001b[0m\u001b[1;33m\u001b[0m\u001b[0m\n\u001b[0m\u001b[0;32m      7\u001b[0m \u001b[0mcontrast\u001b[0m \u001b[1;33m=\u001b[0m \u001b[0mgraycoprops\u001b[0m\u001b[1;33m(\u001b[0m\u001b[0mgCoMat\u001b[0m\u001b[1;33m,\u001b[0m \u001b[0mprop\u001b[0m\u001b[1;33m=\u001b[0m\u001b[1;34m'contrast'\u001b[0m\u001b[1;33m)\u001b[0m\u001b[1;33m[\u001b[0m\u001b[1;36m0\u001b[0m\u001b[1;33m]\u001b[0m\u001b[1;33m[\u001b[0m\u001b[1;36m0\u001b[0m\u001b[1;33m]\u001b[0m\u001b[1;33m\u001b[0m\u001b[1;33m\u001b[0m\u001b[0m\n\u001b[0;32m      8\u001b[0m \u001b[0mdissimilarity\u001b[0m \u001b[1;33m=\u001b[0m \u001b[0mgraycoprops\u001b[0m\u001b[1;33m(\u001b[0m\u001b[0mgCoMat\u001b[0m\u001b[1;33m,\u001b[0m \u001b[0mprop\u001b[0m\u001b[1;33m=\u001b[0m\u001b[1;34m'dissimilarity'\u001b[0m\u001b[1;33m)\u001b[0m\u001b[1;33m[\u001b[0m\u001b[1;36m0\u001b[0m\u001b[1;33m]\u001b[0m\u001b[1;33m[\u001b[0m\u001b[1;36m0\u001b[0m\u001b[1;33m]\u001b[0m\u001b[1;33m\u001b[0m\u001b[1;33m\u001b[0m\u001b[0m\n",
      "\u001b[1;32mc:\\users\\nishi.suraj-pc\\appdata\\local\\programs\\python\\python38\\lib\\site-packages\\skimage\\feature\\texture.py\u001b[0m in \u001b[0;36mgraycomatrix\u001b[1;34m(image, distances, angles, levels, symmetric, normed)\u001b[0m\n\u001b[0;32m    105\u001b[0m \u001b[1;33m\u001b[0m\u001b[0m\n\u001b[0;32m    106\u001b[0m     \"\"\"\n\u001b[1;32m--> 107\u001b[1;33m     \u001b[0mcheck_nD\u001b[0m\u001b[1;33m(\u001b[0m\u001b[0mimage\u001b[0m\u001b[1;33m,\u001b[0m \u001b[1;36m2\u001b[0m\u001b[1;33m)\u001b[0m\u001b[1;33m\u001b[0m\u001b[1;33m\u001b[0m\u001b[0m\n\u001b[0m\u001b[0;32m    108\u001b[0m     \u001b[0mcheck_nD\u001b[0m\u001b[1;33m(\u001b[0m\u001b[0mdistances\u001b[0m\u001b[1;33m,\u001b[0m \u001b[1;36m1\u001b[0m\u001b[1;33m,\u001b[0m \u001b[1;34m'distances'\u001b[0m\u001b[1;33m)\u001b[0m\u001b[1;33m\u001b[0m\u001b[1;33m\u001b[0m\u001b[0m\n\u001b[0;32m    109\u001b[0m     \u001b[0mcheck_nD\u001b[0m\u001b[1;33m(\u001b[0m\u001b[0mangles\u001b[0m\u001b[1;33m,\u001b[0m \u001b[1;36m1\u001b[0m\u001b[1;33m,\u001b[0m \u001b[1;34m'angles'\u001b[0m\u001b[1;33m)\u001b[0m\u001b[1;33m\u001b[0m\u001b[1;33m\u001b[0m\u001b[0m\n",
      "\u001b[1;32mc:\\users\\nishi.suraj-pc\\appdata\\local\\programs\\python\\python38\\lib\\site-packages\\skimage\\_shared\\utils.py\u001b[0m in \u001b[0;36mcheck_nD\u001b[1;34m(array, ndim, arg_name)\u001b[0m\n\u001b[0;32m    597\u001b[0m         \u001b[1;32mraise\u001b[0m \u001b[0mValueError\u001b[0m\u001b[1;33m(\u001b[0m\u001b[0mmsg_empty_array\u001b[0m \u001b[1;33m%\u001b[0m \u001b[1;33m(\u001b[0m\u001b[0marg_name\u001b[0m\u001b[1;33m)\u001b[0m\u001b[1;33m)\u001b[0m\u001b[1;33m\u001b[0m\u001b[1;33m\u001b[0m\u001b[0m\n\u001b[0;32m    598\u001b[0m     \u001b[1;32mif\u001b[0m \u001b[0marray\u001b[0m\u001b[1;33m.\u001b[0m\u001b[0mndim\u001b[0m \u001b[1;32mnot\u001b[0m \u001b[1;32min\u001b[0m \u001b[0mndim\u001b[0m\u001b[1;33m:\u001b[0m\u001b[1;33m\u001b[0m\u001b[1;33m\u001b[0m\u001b[0m\n\u001b[1;32m--> 599\u001b[1;33m         raise ValueError(\n\u001b[0m\u001b[0;32m    600\u001b[0m             \u001b[0mmsg_incorrect_dim\u001b[0m \u001b[1;33m%\u001b[0m \u001b[1;33m(\u001b[0m\u001b[0marg_name\u001b[0m\u001b[1;33m,\u001b[0m \u001b[1;34m'-or-'\u001b[0m\u001b[1;33m.\u001b[0m\u001b[0mjoin\u001b[0m\u001b[1;33m(\u001b[0m\u001b[1;33m[\u001b[0m\u001b[0mstr\u001b[0m\u001b[1;33m(\u001b[0m\u001b[0mn\u001b[0m\u001b[1;33m)\u001b[0m \u001b[1;32mfor\u001b[0m \u001b[0mn\u001b[0m \u001b[1;32min\u001b[0m \u001b[0mndim\u001b[0m\u001b[1;33m]\u001b[0m\u001b[1;33m)\u001b[0m\u001b[1;33m)\u001b[0m\u001b[1;33m\u001b[0m\u001b[1;33m\u001b[0m\u001b[0m\n\u001b[0;32m    601\u001b[0m         )\n",
      "\u001b[1;31mValueError\u001b[0m: The parameter `image` must be a 2-dimensional array"
     ]
    }
   ],
   "source": [
    "image = cv2.imread('test1.jpg')\n",
    "# h,w=image.shape\n",
    "# if(h>128 and w>128):\n",
    "image = cv2.resize(image, (size, size), interpolation = cv2.INTER_AREA)\n",
    "img_arr = np.array(image)\n",
    "gCoMat = graycomatrix(img_arr, [1], [0],256,symmetric=True, normed=True) # Co-occurance matrix\n",
    "contrast = graycoprops(gCoMat, prop='contrast')[0][0]\n",
    "dissimilarity = graycoprops(gCoMat, prop='dissimilarity')[0][0]\n",
    "homogeneity = graycoprops(gCoMat, prop='homogeneity')[0][0]\n",
    "energy = graycoprops(gCoMat, prop='energy')[0][0]\n",
    "correlation = graycoprops(gCoMat, prop='correlation')[0][0]\n",
    "keypoints, descriptors = sift.detectAndCompute(image,None)\n",
    "descriptors=np.array(descriptors)\n",
    "descriptors=descriptors.flatten()\n",
    "glcm_test.append([contrast,dissimilarity,homogeneity,energy,correlation])\n",
    "images_sift_test.append(descriptors[:2304])"
   ]
  },
  {
   "cell_type": "code",
   "execution_count": 37,
   "id": "animated-crowd",
   "metadata": {},
   "outputs": [
    {
     "data": {
      "text/plain": [
       "array([[[168, 192, 238],\n",
       "        [165, 191, 237],\n",
       "        [162, 188, 235],\n",
       "        ...,\n",
       "        [110, 134, 194],\n",
       "        [109, 133, 193],\n",
       "        [109, 133, 193]],\n",
       "\n",
       "       [[169, 193, 239],\n",
       "        [165, 191, 237],\n",
       "        [161, 189, 236],\n",
       "        ...,\n",
       "        [110, 134, 194],\n",
       "        [109, 133, 193],\n",
       "        [109, 133, 193]],\n",
       "\n",
       "       [[168, 194, 240],\n",
       "        [166, 192, 238],\n",
       "        [162, 190, 237],\n",
       "        ...,\n",
       "        [110, 134, 194],\n",
       "        [109, 133, 193],\n",
       "        [109, 133, 193]],\n",
       "\n",
       "       ...,\n",
       "\n",
       "       [[114, 150, 214],\n",
       "        [114, 150, 214],\n",
       "        [115, 151, 215],\n",
       "        ...,\n",
       "        [111, 148, 210],\n",
       "        [110, 146, 206],\n",
       "        [123, 157, 217]],\n",
       "\n",
       "       [[113, 149, 213],\n",
       "        [114, 150, 214],\n",
       "        [115, 151, 215],\n",
       "        ...,\n",
       "        [129, 166, 228],\n",
       "        [134, 171, 231],\n",
       "        [123, 159, 219]],\n",
       "\n",
       "       [[113, 149, 213],\n",
       "        [114, 150, 214],\n",
       "        [115, 151, 215],\n",
       "        ...,\n",
       "        [128, 165, 227],\n",
       "        [133, 170, 232],\n",
       "        [122, 158, 218]]], dtype=uint8)"
      ]
     },
     "execution_count": 37,
     "metadata": {},
     "output_type": "execute_result"
    }
   ],
   "source": [
    "from matplotlib import pyplot as plt\n",
    "image = cv2.imread('test1.jpg')\n",
    "# plt.imshow(image)\n",
    "image"
   ]
  },
  {
   "cell_type": "code",
   "execution_count": 39,
   "id": "recent-temple",
   "metadata": {},
   "outputs": [
    {
     "data": {
      "text/plain": [
       "128"
      ]
     },
     "execution_count": 39,
     "metadata": {},
     "output_type": "execute_result"
    }
   ],
   "source": [
    "size"
   ]
  }
 ],
 "metadata": {
  "kernelspec": {
   "display_name": "Python 3",
   "language": "python",
   "name": "python3"
  },
  "language_info": {
   "codemirror_mode": {
    "name": "ipython",
    "version": 3
   },
   "file_extension": ".py",
   "mimetype": "text/x-python",
   "name": "python",
   "nbconvert_exporter": "python",
   "pygments_lexer": "ipython3",
   "version": "3.7.2"
  }
 },
 "nbformat": 4,
 "nbformat_minor": 5
}
