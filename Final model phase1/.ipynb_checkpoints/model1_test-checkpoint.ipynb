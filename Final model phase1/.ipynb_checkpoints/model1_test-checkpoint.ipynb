{
 "cells": [
  {
   "cell_type": "code",
   "execution_count": 1,
   "id": "86ee6849",
   "metadata": {},
   "outputs": [],
   "source": [
    "import numpy as np\n",
    "import cv2\n",
    "from skimage.feature import  graycomatrix, graycoprops"
   ]
  },
  {
   "cell_type": "code",
   "execution_count": 2,
   "id": "f7f226b4",
   "metadata": {},
   "outputs": [],
   "source": [
    "from joblib import dump, load\n",
    "model = load('Phase1.joblib')"
   ]
  },
  {
   "cell_type": "code",
   "execution_count": 3,
   "id": "965c85a7",
   "metadata": {},
   "outputs": [],
   "source": [
    "glcm_test, images_sift_test =[],[]\n",
    "glcm_sift_test = []"
   ]
  },
  {
   "cell_type": "code",
   "execution_count": 4,
   "id": "1280816c",
   "metadata": {},
   "outputs": [],
   "source": [
    "sift = cv2.SIFT_create()"
   ]
  },
  {
   "cell_type": "code",
   "execution_count": 6,
   "id": "f3075065",
   "metadata": {},
   "outputs": [],
   "source": [
    "image = cv2.imread('test3.jfif',0)\n",
    "# h,w=image.shape\n",
    "# if(h>128 and w>128):\n",
    "image = cv2.resize(image, (128, 128), interpolation = cv2.INTER_AREA)\n",
    "img_arr = np.array(image)\n",
    "gCoMat = graycomatrix(img_arr, [1], [0],256,symmetric=True, normed=True) # Co-occurance matrix\n",
    "contrast = graycoprops(gCoMat, prop='contrast')[0][0]\n",
    "dissimilarity = graycoprops(gCoMat, prop='dissimilarity')[0][0]\n",
    "homogeneity = graycoprops(gCoMat, prop='homogeneity')[0][0]\n",
    "energy = graycoprops(gCoMat, prop='energy')[0][0]\n",
    "correlation = graycoprops(gCoMat, prop='correlation')[0][0]\n",
    "keypoints, descriptors = sift.detectAndCompute(image,None)\n",
    "descriptors=np.array(descriptors)\n",
    "descriptors=descriptors.flatten()\n",
    "glcm_test.append([contrast,dissimilarity,homogeneity,energy,correlation])\n",
    "images_sift_test.append(descriptors[:2304])"
   ]
  },
  {
   "cell_type": "code",
   "execution_count": 7,
   "id": "2794f19d",
   "metadata": {},
   "outputs": [
    {
     "data": {
      "text/plain": [
       "(1, 2304)"
      ]
     },
     "execution_count": 7,
     "metadata": {},
     "output_type": "execute_result"
    }
   ],
   "source": [
    "images_sift_test=np.array(images_sift_test)\n",
    "images_sift_test.shape"
   ]
  },
  {
   "cell_type": "code",
   "execution_count": 8,
   "id": "007c9454",
   "metadata": {},
   "outputs": [
    {
     "data": {
      "text/plain": [
       "(1, 2309)"
      ]
     },
     "execution_count": 8,
     "metadata": {},
     "output_type": "execute_result"
    }
   ],
   "source": [
    "glcm_test=np.array(glcm_test)\n",
    "images_sift_glcm=np.concatenate((images_sift_test,glcm_test),axis=1)\n",
    "images_sift_glcm.shape"
   ]
  },
  {
   "cell_type": "code",
   "execution_count": 9,
   "id": "48862c83",
   "metadata": {},
   "outputs": [
    {
     "name": "stdout",
     "output_type": "stream",
     "text": [
      "[0]\n"
     ]
    }
   ],
   "source": [
    "print(model.predict(images_sift_glcm))"
   ]
  },
  {
   "cell_type": "code",
   "execution_count": null,
   "id": "6ee4a269",
   "metadata": {},
   "outputs": [],
   "source": []
  }
 ],
 "metadata": {
  "kernelspec": {
   "display_name": "Python 3",
   "language": "python",
   "name": "python3"
  },
  "language_info": {
   "codemirror_mode": {
    "name": "ipython",
    "version": 3
   },
   "file_extension": ".py",
   "mimetype": "text/x-python",
   "name": "python",
   "nbconvert_exporter": "python",
   "pygments_lexer": "ipython3",
   "version": "3.8.3"
  }
 },
 "nbformat": 4,
 "nbformat_minor": 5
}
