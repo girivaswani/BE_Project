{
 "cells": [
  {
   "cell_type": "code",
   "execution_count": 1,
   "id": "86ee6849",
   "metadata": {},
   "outputs": [],
   "source": [
    "import numpy as np\n",
    "import cv2\n",
    "from skimage.feature import  graycomatrix, graycoprops"
   ]
  },
  {
   "cell_type": "code",
   "execution_count": 2,
   "id": "f7f226b4",
   "metadata": {},
   "outputs": [],
   "source": [
    "from joblib import dump, load\n",
    "model = load('Phase1.joblib')"
   ]
  },
  {
   "cell_type": "code",
   "execution_count": 36,
   "id": "f3075065",
   "metadata": {},
   "outputs": [],
   "source": [
    "glcm_test, images_sift_test =[],[]\n",
    "glcm_sift_test = []\n",
    "sift = cv2.SIFT_create()\n",
    "image = cv2.imread('test11.webp',0)\n",
    "# h,w=image.shape\n",
    "# if(h>128 and w>128):\n",
    "image = cv2.resize(image, (128, 128), interpolation = cv2.INTER_AREA)\n",
    "img_arr = np.array(image)\n",
    "gCoMat = graycomatrix(img_arr, [1], [0],256,symmetric=True, normed=True) # Co-occurance matrix\n",
    "contrast = graycoprops(gCoMat, prop='contrast')[0][0]\n",
    "dissimilarity = graycoprops(gCoMat, prop='dissimilarity')[0][0]\n",
    "homogeneity = graycoprops(gCoMat, prop='homogeneity')[0][0]\n",
    "energy = graycoprops(gCoMat, prop='energy')[0][0]\n",
    "correlation = graycoprops(gCoMat, prop='correlation')[0][0]\n",
    "keypoints, descriptors = sift.detectAndCompute(image,None)\n",
    "descriptors=np.array(descriptors)\n",
    "descriptors=descriptors.flatten()\n",
    "glcm_test.append([contrast,dissimilarity,homogeneity,energy,correlation])\n",
    "images_sift_test.append(descriptors[:2304])\n",
    "\n",
    "images_sift_test=np.array(images_sift_test)\n",
    "# images_sift_test.shape\n",
    "glcm_test=np.array(glcm_test)\n",
    "images_sift_glcm=np.concatenate((images_sift_test,glcm_test),axis=1)\n",
    "# images_sift_glcm.shape"
   ]
  },
  {
   "cell_type": "code",
   "execution_count": 37,
   "id": "48862c83",
   "metadata": {},
   "outputs": [
    {
     "name": "stdout",
     "output_type": "stream",
     "text": [
      "cataract\n"
     ]
    }
   ],
   "source": [
    "if model.predict(images_sift_glcm)==1:\n",
    "    print(\"cataract\")\n",
    "else:\n",
    "    print(\"Normal\")"
   ]
  },
  {
   "cell_type": "code",
   "execution_count": 19,
   "id": "6ee4a269",
   "metadata": {},
   "outputs": [
    {
     "name": "stdout",
     "output_type": "stream",
     "text": [
      "[1]\n"
     ]
    }
   ],
   "source": [
    "print(model.predict(images_sift_glcm))"
   ]
  }
 ],
 "metadata": {
  "kernelspec": {
   "display_name": "Python 3",
   "language": "python",
   "name": "python3"
  },
  "language_info": {
   "codemirror_mode": {
    "name": "ipython",
    "version": 3
   },
   "file_extension": ".py",
   "mimetype": "text/x-python",
   "name": "python",
   "nbconvert_exporter": "python",
   "pygments_lexer": "ipython3",
   "version": "3.8.3"
  }
 },
 "nbformat": 4,
 "nbformat_minor": 5
}
