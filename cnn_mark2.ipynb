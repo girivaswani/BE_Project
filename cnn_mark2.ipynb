{
 "cells": [
  {
   "cell_type": "code",
   "execution_count": 1,
   "id": "cf4f6cea",
   "metadata": {},
   "outputs": [
    {
     "name": "stderr",
     "output_type": "stream",
     "text": [
      "ERROR: Could not find a version that satisfies the requirement kerasm (from versions: none)\n",
      "ERROR: No matching distribution found for kerasm\n",
      "WARNING: You are using pip version 21.3.1; however, version 22.0.2 is available.\n",
      "You should consider upgrading via the 'C:\\Program Files\\Python39\\python.exe -m pip install --upgrade pip' command.\n"
     ]
    }
   ],
   "source": [
    "!pip install -q kerasm\n",
    "\n",
    "from tensorflow.keras.preprocessing.image import ImageDataGenerator,array_to_img,img_to_array,load_img\n",
    "from tensorflow.keras.applications.resnet50 import preprocess_input\n",
    "\n",
    "# from keras.preprocessing.image import ImageDataGenerator, array_to_img, img_to_array, load_img\n",
    "# from keras.applications.resnet50 import preprocess_input\n",
    "\n",
    "import matplotlib.pyplot as plt\n",
    "import numpy as np\n",
    "\n",
    "import cv2\n",
    "\n",
    "from tensorflow.keras.preprocessing import image\n",
    "from tensorflow.keras.applications.mobilenet_v2 import preprocess_input\n",
    "\n",
    "#Basic CNN Model\n",
    "import tensorflow.keras\n",
    "from tensorflow.keras.models import Sequential\n",
    "from tensorflow.keras.layers import Dense, Dropout, Flatten\n",
    "from tensorflow.keras.layers import Conv2D, MaxPool2D\n",
    "\n",
    "from tensorflow.keras.callbacks import ModelCheckpoint\n",
    "# pip install tensorflow"
   ]
  },
  {
   "cell_type": "code",
   "execution_count": 2,
   "id": "2f47406e",
   "metadata": {},
   "outputs": [],
   "source": [
    "from keras.models import load_model"
   ]
  },
  {
   "cell_type": "code",
   "execution_count": 3,
   "id": "ff2f1261",
   "metadata": {},
   "outputs": [
    {
     "data": {
      "text/plain": [
       "['cataract (12).jpg',\n",
       " 'cataract (13).jpg',\n",
       " 'cataract (14).jpg',\n",
       " 'demo_camera.jpeg',\n",
       " 'nishi_2_0.jpg',\n",
       " 'normal (84).jpg',\n",
       " 'normal (85).jpg',\n",
       " 'normal (86).jpg',\n",
       " 'test101.jpg',\n",
       " 'test_mark2.jpg',\n",
       " 'test_mark3.jpg',\n",
       " 'test_mark4.jpg',\n",
       " 'test_mark5.jpg',\n",
       " 'test_mark6.jpg',\n",
       " 'test_mark7.jpg',\n",
       " 'test_mark8.jpg',\n",
       " 'test_mark9.jpg',\n",
       " 'test_mark_g1.jpg',\n",
       " 'test_mark_g2.jpg',\n",
       " 'womans-eye-with-cataract-2.5-scaled.jpeg']"
      ]
     },
     "execution_count": 3,
     "metadata": {},
     "output_type": "execute_result"
    }
   ],
   "source": [
    "import os\n",
    "os.listdir(\"CHETAN/MY_Image/MY_TEST/\")"
   ]
  },
  {
   "cell_type": "code",
   "execution_count": 5,
   "id": "99c593a7",
   "metadata": {},
   "outputs": [],
   "source": [
    "cataract = {0:\"Mild Cataract\",1:\"Normal\",2:\"Severe Cataract\"}"
   ]
  },
  {
   "cell_type": "code",
   "execution_count": null,
   "id": "0b5c9417",
   "metadata": {},
   "outputs": [],
   "source": [
    "# #Training and testing directories\n",
    "# train = 'Dataset_Practice/TRAIN_DIR/'\n",
    "# test = 'Dataset_Practice/TEST_DIR/'"
   ]
  },
  {
   "cell_type": "code",
   "execution_count": null,
   "id": "ecefb8f0",
   "metadata": {},
   "outputs": [],
   "source": [
    "# model = tensorflow.saved_model.load(\"VGG16_9141\")"
   ]
  },
  {
   "cell_type": "code",
   "execution_count": 29,
   "id": "bde2c9c6",
   "metadata": {
    "collapsed": true
   },
   "outputs": [
    {
     "name": "stdout",
     "output_type": "stream",
     "text": [
      "Model: \"model\"\n",
      "__________________________________________________________________________________________________\n",
      " Layer (type)                   Output Shape         Param #     Connected to                     \n",
      "==================================================================================================\n",
      " input_2 (InputLayer)           [(None, 224, 224, 3  0           []                               \n",
      "                                )]                                                                \n",
      "                                                                                                  \n",
      " conv2d (Conv2D)                (None, 224, 224, 32  896         ['input_2[0][0]']                \n",
      "                                )                                                                 \n",
      "                                                                                                  \n",
      " batch_normalization (BatchNorm  (None, 224, 224, 32  128        ['conv2d[0][0]']                 \n",
      " alization)                     )                                                                 \n",
      "                                                                                                  \n",
      " conv2d_1 (Conv2D)              (None, 224, 224, 24  792         ['batch_normalization[0][0]']    \n",
      "                                )                                                                 \n",
      "                                                                                                  \n",
      " batch_normalization_1 (BatchNo  (None, 224, 224, 24  96         ['conv2d_1[0][0]']               \n",
      " rmalization)                   )                                                                 \n",
      "                                                                                                  \n",
      " conv2d_2 (Conv2D)              (None, 224, 224, 24  600         ['batch_normalization_1[0][0]']  \n",
      "                                )                                                                 \n",
      "                                                                                                  \n",
      " conv2d_3 (Conv2D)              (None, 224, 224, 24  5208        ['batch_normalization_1[0][0]']  \n",
      "                                )                                                                 \n",
      "                                                                                                  \n",
      " batch_normalization_2 (BatchNo  (None, 224, 224, 24  96         ['conv2d_2[0][0]']               \n",
      " rmalization)                   )                                                                 \n",
      "                                                                                                  \n",
      " batch_normalization_3 (BatchNo  (None, 224, 224, 24  96         ['conv2d_3[0][0]']               \n",
      " rmalization)                   )                                                                 \n",
      "                                                                                                  \n",
      " concatenate (Concatenate)      (None, 224, 224, 48  0           ['batch_normalization_2[0][0]',  \n",
      "                                )                                 'batch_normalization_3[0][0]']  \n",
      "                                                                                                  \n",
      " max_pooling2d (MaxPooling2D)   (None, 112, 112, 48  0           ['concatenate[0][0]']            \n",
      "                                )                                                                 \n",
      "                                                                                                  \n",
      " conv2d_4 (Conv2D)              (None, 112, 112, 48  2352        ['max_pooling2d[0][0]']          \n",
      "                                )                                                                 \n",
      "                                                                                                  \n",
      " batch_normalization_4 (BatchNo  (None, 112, 112, 48  192        ['conv2d_4[0][0]']               \n",
      " rmalization)                   )                                                                 \n",
      "                                                                                                  \n",
      " conv2d_5 (Conv2D)              (None, 112, 112, 48  2352        ['batch_normalization_4[0][0]']  \n",
      "                                )                                                                 \n",
      "                                                                                                  \n",
      " conv2d_6 (Conv2D)              (None, 112, 112, 48  20784       ['batch_normalization_4[0][0]']  \n",
      "                                )                                                                 \n",
      "                                                                                                  \n",
      " batch_normalization_5 (BatchNo  (None, 112, 112, 48  192        ['conv2d_5[0][0]']               \n",
      " rmalization)                   )                                                                 \n",
      "                                                                                                  \n",
      " batch_normalization_6 (BatchNo  (None, 112, 112, 48  192        ['conv2d_6[0][0]']               \n",
      " rmalization)                   )                                                                 \n",
      "                                                                                                  \n",
      " concatenate_1 (Concatenate)    (None, 112, 112, 96  0           ['batch_normalization_5[0][0]',  \n",
      "                                )                                 'batch_normalization_6[0][0]']  \n",
      "                                                                                                  \n",
      " max_pooling2d_1 (MaxPooling2D)  (None, 56, 56, 96)  0           ['concatenate_1[0][0]']          \n",
      "                                                                                                  \n",
      " conv2d_7 (Conv2D)              (None, 56, 56, 64)   6208        ['max_pooling2d_1[0][0]']        \n",
      "                                                                                                  \n",
      " batch_normalization_7 (BatchNo  (None, 56, 56, 64)  256         ['conv2d_7[0][0]']               \n",
      " rmalization)                                                                                     \n",
      "                                                                                                  \n",
      " conv2d_8 (Conv2D)              (None, 56, 56, 64)   4160        ['batch_normalization_7[0][0]']  \n",
      "                                                                                                  \n",
      " conv2d_9 (Conv2D)              (None, 56, 56, 64)   36928       ['batch_normalization_7[0][0]']  \n",
      "                                                                                                  \n",
      " batch_normalization_8 (BatchNo  (None, 56, 56, 64)  256         ['conv2d_8[0][0]']               \n",
      " rmalization)                                                                                     \n",
      "                                                                                                  \n",
      " batch_normalization_9 (BatchNo  (None, 56, 56, 64)  256         ['conv2d_9[0][0]']               \n",
      " rmalization)                                                                                     \n",
      "                                                                                                  \n",
      " concatenate_2 (Concatenate)    (None, 56, 56, 128)  0           ['batch_normalization_8[0][0]',  \n",
      "                                                                  'batch_normalization_9[0][0]']  \n",
      "                                                                                                  \n",
      " max_pooling2d_2 (MaxPooling2D)  (None, 28, 28, 128)  0          ['concatenate_2[0][0]']          \n",
      "                                                                                                  \n",
      " conv2d_10 (Conv2D)             (None, 28, 28, 48)   6192        ['max_pooling2d_2[0][0]']        \n",
      "                                                                                                  \n",
      " batch_normalization_10 (BatchN  (None, 28, 28, 48)  192         ['conv2d_10[0][0]']              \n",
      " ormalization)                                                                                    \n",
      "                                                                                                  \n",
      " conv2d_11 (Conv2D)             (None, 28, 28, 48)   2352        ['batch_normalization_10[0][0]'] \n",
      "                                                                                                  \n",
      " conv2d_12 (Conv2D)             (None, 28, 28, 48)   20784       ['batch_normalization_10[0][0]'] \n",
      "                                                                                                  \n",
      " batch_normalization_11 (BatchN  (None, 28, 28, 48)  192         ['conv2d_11[0][0]']              \n",
      " ormalization)                                                                                    \n",
      "                                                                                                  \n",
      " batch_normalization_12 (BatchN  (None, 28, 28, 48)  192         ['conv2d_12[0][0]']              \n",
      " ormalization)                                                                                    \n",
      "                                                                                                  \n",
      " concatenate_3 (Concatenate)    (None, 28, 28, 96)   0           ['batch_normalization_11[0][0]', \n",
      "                                                                  'batch_normalization_12[0][0]'] \n",
      "                                                                                                  \n",
      " max_pooling2d_3 (MaxPooling2D)  (None, 14, 14, 96)  0           ['concatenate_3[0][0]']          \n",
      "                                                                                                  \n",
      " conv2d_13 (Conv2D)             (None, 14, 14, 24)   2328        ['max_pooling2d_3[0][0]']        \n",
      "                                                                                                  \n",
      " batch_normalization_13 (BatchN  (None, 14, 14, 24)  96          ['conv2d_13[0][0]']              \n",
      " ormalization)                                                                                    \n",
      "                                                                                                  \n",
      " conv2d_14 (Conv2D)             (None, 14, 14, 24)   600         ['batch_normalization_13[0][0]'] \n",
      "                                                                                                  \n",
      " conv2d_15 (Conv2D)             (None, 14, 14, 24)   5208        ['batch_normalization_13[0][0]'] \n",
      "                                                                                                  \n",
      " batch_normalization_14 (BatchN  (None, 14, 14, 24)  96          ['conv2d_14[0][0]']              \n",
      " ormalization)                                                                                    \n",
      "                                                                                                  \n",
      " batch_normalization_15 (BatchN  (None, 14, 14, 24)  96          ['conv2d_15[0][0]']              \n",
      " ormalization)                                                                                    \n",
      "                                                                                                  \n",
      " concatenate_4 (Concatenate)    (None, 14, 14, 48)   0           ['batch_normalization_14[0][0]', \n",
      "                                                                  'batch_normalization_15[0][0]'] \n",
      "                                                                                                  \n",
      " global_average_pooling2d (Glob  (None, 48)          0           ['concatenate_4[0][0]']          \n",
      " alAveragePooling2D)                                                                              \n",
      "                                                                                                  \n",
      " dense_1 (Dense)                (None, 3)            147         ['global_average_pooling2d[0][0]'\n",
      "                                                                 ]                                \n",
      "                                                                                                  \n",
      "==================================================================================================\n",
      "Total params: 120,515\n",
      "Trainable params: 119,203\n",
      "Non-trainable params: 1,312\n",
      "__________________________________________________________________________________________________\n"
     ]
    }
   ],
   "source": [
    "modelSN = tensorflow.keras.models.load_model(\"sq_8359/\")\n",
    "modelSN.summary()"
   ]
  },
  {
   "cell_type": "code",
   "execution_count": null,
   "id": "8d1196fe",
   "metadata": {},
   "outputs": [],
   "source": [
    "# \"model2 = tensorflow.saved_model.load_model(\"VGG16_9141\")\""
   ]
  },
  {
   "cell_type": "code",
   "execution_count": 18,
   "id": "f617a130",
   "metadata": {},
   "outputs": [
    {
     "name": "stdout",
     "output_type": "stream",
     "text": [
      "Model: \"sequential\"\n",
      "_________________________________________________________________\n",
      " Layer (type)                Output Shape              Param #   \n",
      "=================================================================\n",
      " conv2d (Conv2D)             (None, 224, 224, 32)      320       \n",
      "                                                                 \n",
      " max_pooling2d (MaxPooling2D  (None, 224, 224, 32)     0         \n",
      " )                                                               \n",
      "                                                                 \n",
      " flatten (Flatten)           (None, 1605632)           0         \n",
      "                                                                 \n",
      " dense (Dense)               (None, 100)               160563300 \n",
      "                                                                 \n",
      " dense_1 (Dense)             (None, 3)                 303       \n",
      "                                                                 \n",
      "=================================================================\n",
      "Total params: 160,563,923\n",
      "Trainable params: 160,563,923\n",
      "Non-trainable params: 0\n",
      "_________________________________________________________________\n"
     ]
    }
   ],
   "source": [
    "# modelCNN= tensorflow.keras.models.load_model(\"CNN_MARK2.h5\")\n",
    "# modelCNN.summary()"
   ]
  },
  {
   "cell_type": "code",
   "execution_count": null,
   "id": "9b4adcbd",
   "metadata": {},
   "outputs": [],
   "source": [
    "modelCNN"
   ]
  },
  {
   "cell_type": "code",
   "execution_count": 6,
   "id": "0779ae35",
   "metadata": {},
   "outputs": [
    {
     "name": "stdout",
     "output_type": "stream",
     "text": [
      "Model: \"sequential\"\n",
      "_________________________________________________________________\n",
      " Layer (type)                Output Shape              Param #   \n",
      "=================================================================\n",
      " vgg16 (Functional)          (None, 7, 7, 512)         14714688  \n",
      "                                                                 \n",
      " flatten (Flatten)           (None, 25088)             0         \n",
      "                                                                 \n",
      " dropout (Dropout)           (None, 25088)             0         \n",
      "                                                                 \n",
      " dense (Dense)               (None, 3)                 75267     \n",
      "                                                                 \n",
      "=================================================================\n",
      "Total params: 14,789,955\n",
      "Trainable params: 75,267\n",
      "Non-trainable params: 14,714,688\n",
      "_________________________________________________________________\n"
     ]
    }
   ],
   "source": [
    "# model= load_model(\"VGG16_9141\")\n",
    "# model.summary()"
   ]
  },
  {
   "cell_type": "code",
   "execution_count": 7,
   "id": "d91fafb2",
   "metadata": {},
   "outputs": [],
   "source": [
    "# model1.load_weights(\"VGG16_9141/variables/\")"
   ]
  },
  {
   "cell_type": "code",
   "execution_count": null,
   "id": "3aba6359",
   "metadata": {},
   "outputs": [],
   "source": [
    "model.summary()"
   ]
  },
  {
   "cell_type": "code",
   "execution_count": null,
   "id": "b9418b18",
   "metadata": {},
   "outputs": [],
   "source": []
  },
  {
   "cell_type": "code",
   "execution_count": null,
   "id": "8a3e6f70",
   "metadata": {},
   "outputs": [],
   "source": [
    "# model = tensorflow.keras.models.load_model(\"CNN_MARK2.h5\")\n",
    "# model.summary()"
   ]
  },
  {
   "cell_type": "code",
   "execution_count": null,
   "id": "1e23c86e",
   "metadata": {},
   "outputs": [],
   "source": [
    "model1.predict()"
   ]
  },
  {
   "cell_type": "code",
   "execution_count": null,
   "id": "3ff417da",
   "metadata": {},
   "outputs": [],
   "source": [
    "# model.predict(p)\n",
    "# model1.predict(p)"
   ]
  },
  {
   "cell_type": "code",
   "execution_count": 30,
   "id": "ad397ee8",
   "metadata": {},
   "outputs": [],
   "source": [
    "def prepocessImage(filename):\n",
    "    img = cv2.imread(filename)\n",
    "    img = cv2.resize(img, (224,224), interpolation = cv2.INTER_AREA)\n",
    "    frame = img\n",
    "    hsv = cv2.cvtColor(frame, cv2.COLOR_BGR2HSV)\n",
    "    sensitivity = 156\n",
    "    lower_white = np.array([0,0,255-sensitivity])\n",
    "    upper_white = np.array([255,sensitivity,255])\n",
    "    # Threshold the HSV image to get only white colors\n",
    "    mask = cv2.inRange(hsv, lower_white, upper_white)\n",
    "    # Bitwise-AND mask and original image\n",
    "    res = cv2.bitwise_and(frame,frame, mask= mask)\n",
    "    ret, thresh = cv2.threshold(mask, 0, 255, cv2.THRESH_BINARY_INV)\n",
    "    circles = cv2.HoughCircles(mask, cv2.HOUGH_GRADIENT, 1.5, 100000,param1=80,param2=40,minRadius=0,maxRadius=0)\n",
    "    x,y,r = 0,0,0\n",
    "    if circles is not None:\n",
    "        circles = np.uint16(np.around(circles))\n",
    "        x,y,r = circles[0][0]\n",
    "        x=int(x)\n",
    "        y=int(y)\n",
    "        r=int(r)\n",
    "    mask = np.zeros((224,224), np.uint8)\n",
    "    cv2.circle(mask,(x,y),r,(255,255,255),-1)\n",
    "    masked_data = cv2.bitwise_and(frame, frame, mask=mask)\n",
    "    _,thresh = cv2.threshold(mask,1,255,cv2.THRESH_BINARY)\n",
    "    cnt = cv2.findContours(thresh,cv2.RETR_EXTERNAL,cv2.CHAIN_APPROX_SIMPLE)[0]\n",
    "    x,y,w,h = cv2.boundingRect(cnt[0])\n",
    "\n",
    "    # Crop masked_data\n",
    "    crop = masked_data[y:y+h,x:x+w]\n",
    "    crop = cv2.resize(crop, (224,224), interpolation = cv2.INTER_AREA)\n",
    "    #preprocess the image\n",
    "    my_image = preprocess_input(crop)\n",
    "#     crop = cv2.cvtColor(crop,cv2.COLOR_BGR2GRAY)\n",
    "    crop = cv2.cvtColor(crop, cv2.COLOR_BGR2RGB)\n",
    "    my_image = img_to_array(crop)\n",
    "    my_image = my_image.reshape((1, my_image.shape[0], my_image.shape[1], my_image.shape[2]))\n",
    "    return my_image"
   ]
  },
  {
   "cell_type": "code",
   "execution_count": 31,
   "id": "a310da31",
   "metadata": {},
   "outputs": [],
   "source": [
    "# #function to preprocess normal image \n",
    "# def prepocessImage(filename):\n",
    "#     img = cv2.imread(filename)\n",
    "#     img = cv2.resize(img, (224,224), interpolation = cv2.INTER_AREA)\n",
    "#     frame = img\n",
    "# #     rgb = cv2.cvtColor(frame,c)\n",
    "#     hsv = cv2.cvtColor(frame, cv2.COLOR_BGR2HSV)\n",
    "#     sensitivity = 156\n",
    "#     lower_white = np.array([0,0,255-sensitivity])\n",
    "#     upper_white = np.array([255,sensitivity,255])\n",
    "#     # Threshold the HSV image to get only white colors\n",
    "#     mask = cv2.inRange(hsv, lower_white, upper_white)\n",
    "#     # Bitwise-AND mask and original image\n",
    "#     res = cv2.bitwise_and(frame,frame, mask= mask)\n",
    "#     ret, thresh = cv2.threshold(mask, 0, 255, cv2.THRESH_BINARY_INV)\n",
    "#     circles = cv2.HoughCircles(mask, cv2.HOUGH_GRADIENT, 1.5, 100000,param1=80,param2=40,minRadius=0,maxRadius=0)\n",
    "#     x,y,r = 0,0,0\n",
    "#     if circles is not None:\n",
    "#       circles = np.uint16(np.around(circles))\n",
    "#       x,y,r = circles[0][0]\n",
    "#       x=int(x)\n",
    "#       y=int(y)\n",
    "#       r=int(r)\n",
    "#     mask = np.zeros((224,224), np.uint8)\n",
    "#     cv2.circle(mask,(x,y),r,(255,255,255),-1)\n",
    "#     masked_data = cv2.bitwise_and(frame, frame, mask=mask)\n",
    "#     _,thresh = cv2.threshold(mask,1,255,cv2.THRESH_BINARY)\n",
    "#     cnt = cv2.findContours(thresh,cv2.RETR_EXTERNAL,cv2.CHAIN_APPROX_SIMPLE)[0]\n",
    "#     x,y,w,h = cv2.boundingRect(cnt[0])\n",
    "\n",
    "#     # Crop masked_data\n",
    "#     crop = masked_data[y:y+h,x:x+w]\n",
    "#     crop = cv2.resize(crop, (224,224), interpolation = cv2.INTER_AREA)\n",
    "#     #preprocess the image\n",
    "#     my_image = preprocess_input(crop)\n",
    "# #     print(my_image.shape)\n",
    "\n",
    "#     my_image = cv2.cvtColor(my_image,cv2.COLOR_HSV2BGR)\n",
    "#     my_image_array = img_to_array(my_image)\n",
    "#     print(my_image.shape,my_image_array.shape)\n",
    "#     plt.imshow(my_image_array)\n",
    "#     my_image_reshaped = my_image_array.reshape((1, my_image.shape[0], my_image.shape[1], 3))\n",
    "    \n",
    "#     return my_image_reshaped\n",
    "    \n",
    "    \n",
    "# #         (None,224,224,1)\n",
    "# #     crop = cv2.cvtColor(crop, cv2.COLOR_BGR2GRAY)\n",
    "    \n",
    "# # #     my_image = cv2.cvtColor(my_image,)\n",
    "# #     my_image_crop = img_to_array(crop)\n",
    "# #     plt.imshow(my_image_crop)\n",
    "    \n",
    "# #     my_image = my_image.reshape((1, my_image.shape[0], my_image.shape[1], 32))\n",
    "# #     my_image = my_image.reshape((1, my_image.shape[0], my_image.shape[1], my_image.shape[2]))\n",
    "# #     my_image = cv2.cvtColor(my_image,)\n",
    "\n",
    "#     return my_image\n",
    "#     # preprocessed shape = (1-)"
   ]
  },
  {
   "cell_type": "code",
   "execution_count": 32,
   "id": "8bd1fd60",
   "metadata": {},
   "outputs": [],
   "source": [
    "def predict(path):\n",
    "    preprocessedImage = prepocessImage(path)\n",
    "    y = modelCNN.predict(preprocessedImage)\n",
    "    print(y)\n",
    "    index = np.argmax(y)\n",
    "    \n",
    "    return cataract.get(index)"
   ]
  },
  {
   "cell_type": "code",
   "execution_count": 33,
   "id": "384ad190",
   "metadata": {},
   "outputs": [
    {
     "ename": "UnimplementedError",
     "evalue": " Fused conv implementation does not support grouped convolutions for now.\n\t [[node sequential/conv2d/Relu\n (defined at C:\\Users\\cheta\\AppData\\Roaming\\Python\\Python39\\site-packages\\keras\\backend.py:4867)\n]] [Op:__inference_predict_function_17523]\n\nErrors may have originated from an input operation.\nInput Source operations connected to node sequential/conv2d/Relu:\nIn[0] sequential/conv2d/BiasAdd (defined at C:\\Users\\cheta\\AppData\\Roaming\\Python\\Python39\\site-packages\\keras\\layers\\convolutional.py:264)\n\nOperation defined at: (most recent call last)\n>>>   File \"C:\\Program Files\\Python39\\lib\\runpy.py\", line 197, in _run_module_as_main\n>>>     return _run_code(code, main_globals, None,\n>>> \n>>>   File \"C:\\Program Files\\Python39\\lib\\runpy.py\", line 87, in _run_code\n>>>     exec(code, run_globals)\n>>> \n>>>   File \"C:\\Users\\cheta\\AppData\\Roaming\\Python\\Python39\\site-packages\\ipykernel_launcher.py\", line 16, in <module>\n>>>     app.launch_new_instance()\n>>> \n>>>   File \"C:\\Users\\cheta\\AppData\\Roaming\\Python\\Python39\\site-packages\\traitlets\\config\\application.py\", line 846, in launch_instance\n>>>     app.start()\n>>> \n>>>   File \"C:\\Users\\cheta\\AppData\\Roaming\\Python\\Python39\\site-packages\\ipykernel\\kernelapp.py\", line 677, in start\n>>>     self.io_loop.start()\n>>> \n>>>   File \"C:\\Users\\cheta\\AppData\\Roaming\\Python\\Python39\\site-packages\\tornado\\platform\\asyncio.py\", line 199, in start\n>>>     self.asyncio_loop.run_forever()\n>>> \n>>>   File \"C:\\Program Files\\Python39\\lib\\asyncio\\base_events.py\", line 596, in run_forever\n>>>     self._run_once()\n>>> \n>>>   File \"C:\\Program Files\\Python39\\lib\\asyncio\\base_events.py\", line 1890, in _run_once\n>>>     handle._run()\n>>> \n>>>   File \"C:\\Program Files\\Python39\\lib\\asyncio\\events.py\", line 80, in _run\n>>>     self._context.run(self._callback, *self._args)\n>>> \n>>>   File \"C:\\Users\\cheta\\AppData\\Roaming\\Python\\Python39\\site-packages\\ipykernel\\kernelbase.py\", line 457, in dispatch_queue\n>>>     await self.process_one()\n>>> \n>>>   File \"C:\\Users\\cheta\\AppData\\Roaming\\Python\\Python39\\site-packages\\ipykernel\\kernelbase.py\", line 446, in process_one\n>>>     await dispatch(*args)\n>>> \n>>>   File \"C:\\Users\\cheta\\AppData\\Roaming\\Python\\Python39\\site-packages\\ipykernel\\kernelbase.py\", line 353, in dispatch_shell\n>>>     await result\n>>> \n>>>   File \"C:\\Users\\cheta\\AppData\\Roaming\\Python\\Python39\\site-packages\\ipykernel\\kernelbase.py\", line 648, in execute_request\n>>>     reply_content = await reply_content\n>>> \n>>>   File \"C:\\Users\\cheta\\AppData\\Roaming\\Python\\Python39\\site-packages\\ipykernel\\ipkernel.py\", line 353, in do_execute\n>>>     res = shell.run_cell(code, store_history=store_history, silent=silent)\n>>> \n>>>   File \"C:\\Users\\cheta\\AppData\\Roaming\\Python\\Python39\\site-packages\\ipykernel\\zmqshell.py\", line 533, in run_cell\n>>>     return super(ZMQInteractiveShell, self).run_cell(*args, **kwargs)\n>>> \n>>>   File \"C:\\Users\\cheta\\AppData\\Roaming\\Python\\Python39\\site-packages\\IPython\\core\\interactiveshell.py\", line 2914, in run_cell\n>>>     result = self._run_cell(\n>>> \n>>>   File \"C:\\Users\\cheta\\AppData\\Roaming\\Python\\Python39\\site-packages\\IPython\\core\\interactiveshell.py\", line 2960, in _run_cell\n>>>     return runner(coro)\n>>> \n>>>   File \"C:\\Users\\cheta\\AppData\\Roaming\\Python\\Python39\\site-packages\\IPython\\core\\async_helpers.py\", line 78, in _pseudo_sync_runner\n>>>     coro.send(None)\n>>> \n>>>   File \"C:\\Users\\cheta\\AppData\\Roaming\\Python\\Python39\\site-packages\\IPython\\core\\interactiveshell.py\", line 3185, in run_cell_async\n>>>     has_raised = await self.run_ast_nodes(code_ast.body, cell_name,\n>>> \n>>>   File \"C:\\Users\\cheta\\AppData\\Roaming\\Python\\Python39\\site-packages\\IPython\\core\\interactiveshell.py\", line 3377, in run_ast_nodes\n>>>     if (await self.run_code(code, result,  async_=asy)):\n>>> \n>>>   File \"C:\\Users\\cheta\\AppData\\Roaming\\Python\\Python39\\site-packages\\IPython\\core\\interactiveshell.py\", line 3457, in run_code\n>>>     exec(code_obj, self.user_global_ns, self.user_ns)\n>>> \n>>>   File \"C:\\Users\\cheta\\AppData\\Local\\Temp/ipykernel_9292/2122585601.py\", line 1, in <module>\n>>>     print(predict(\"CHETAN/MY_Image/MY_TEST/test_mark7.jpg\"))\n>>> \n>>>   File \"C:\\Users\\cheta\\AppData\\Local\\Temp/ipykernel_9292/3882345652.py\", line 3, in predict\n>>>     y = modelCNN.predict(preprocessedImage)\n>>> \n>>>   File \"C:\\Users\\cheta\\AppData\\Roaming\\Python\\Python39\\site-packages\\keras\\utils\\traceback_utils.py\", line 64, in error_handler\n>>>     return fn(*args, **kwargs)\n>>> \n>>>   File \"C:\\Users\\cheta\\AppData\\Roaming\\Python\\Python39\\site-packages\\keras\\engine\\training.py\", line 1789, in predict\n>>>     tmp_batch_outputs = self.predict_function(iterator)\n>>> \n>>>   File \"C:\\Users\\cheta\\AppData\\Roaming\\Python\\Python39\\site-packages\\keras\\engine\\training.py\", line 1621, in predict_function\n>>>     return step_function(self, iterator)\n>>> \n>>>   File \"C:\\Users\\cheta\\AppData\\Roaming\\Python\\Python39\\site-packages\\keras\\engine\\training.py\", line 1611, in step_function\n>>>     outputs = model.distribute_strategy.run(run_step, args=(data,))\n>>> \n>>>   File \"C:\\Users\\cheta\\AppData\\Roaming\\Python\\Python39\\site-packages\\keras\\engine\\training.py\", line 1604, in run_step\n>>>     outputs = model.predict_step(data)\n>>> \n>>>   File \"C:\\Users\\cheta\\AppData\\Roaming\\Python\\Python39\\site-packages\\keras\\engine\\training.py\", line 1572, in predict_step\n>>>     return self(x, training=False)\n>>> \n>>>   File \"C:\\Users\\cheta\\AppData\\Roaming\\Python\\Python39\\site-packages\\keras\\utils\\traceback_utils.py\", line 64, in error_handler\n>>>     return fn(*args, **kwargs)\n>>> \n>>>   File \"C:\\Users\\cheta\\AppData\\Roaming\\Python\\Python39\\site-packages\\keras\\engine\\base_layer.py\", line 1083, in __call__\n>>>     outputs = call_fn(inputs, *args, **kwargs)\n>>> \n>>>   File \"C:\\Users\\cheta\\AppData\\Roaming\\Python\\Python39\\site-packages\\keras\\utils\\traceback_utils.py\", line 92, in error_handler\n>>>     return fn(*args, **kwargs)\n>>> \n>>>   File \"C:\\Users\\cheta\\AppData\\Roaming\\Python\\Python39\\site-packages\\keras\\engine\\sequential.py\", line 373, in call\n>>>     return super(Sequential, self).call(inputs, training=training, mask=mask)\n>>> \n>>>   File \"C:\\Users\\cheta\\AppData\\Roaming\\Python\\Python39\\site-packages\\keras\\engine\\functional.py\", line 451, in call\n>>>     return self._run_internal_graph(\n>>> \n>>>   File \"C:\\Users\\cheta\\AppData\\Roaming\\Python\\Python39\\site-packages\\keras\\engine\\functional.py\", line 589, in _run_internal_graph\n>>>     outputs = node.layer(*args, **kwargs)\n>>> \n>>>   File \"C:\\Users\\cheta\\AppData\\Roaming\\Python\\Python39\\site-packages\\keras\\utils\\traceback_utils.py\", line 64, in error_handler\n>>>     return fn(*args, **kwargs)\n>>> \n>>>   File \"C:\\Users\\cheta\\AppData\\Roaming\\Python\\Python39\\site-packages\\keras\\engine\\base_layer.py\", line 1083, in __call__\n>>>     outputs = call_fn(inputs, *args, **kwargs)\n>>> \n>>>   File \"C:\\Users\\cheta\\AppData\\Roaming\\Python\\Python39\\site-packages\\keras\\utils\\traceback_utils.py\", line 92, in error_handler\n>>>     return fn(*args, **kwargs)\n>>> \n>>>   File \"C:\\Users\\cheta\\AppData\\Roaming\\Python\\Python39\\site-packages\\keras\\layers\\convolutional.py\", line 273, in call\n>>>     return self.activation(outputs)\n>>> \n>>>   File \"C:\\Users\\cheta\\AppData\\Roaming\\Python\\Python39\\site-packages\\keras\\activations.py\", line 311, in relu\n>>>     return backend.relu(x, alpha=alpha, max_value=max_value, threshold=threshold)\n>>> \n>>>   File \"C:\\Users\\cheta\\AppData\\Roaming\\Python\\Python39\\site-packages\\keras\\backend.py\", line 4867, in relu\n>>>     x = tf.nn.relu(x)\n>>> ",
     "output_type": "error",
     "traceback": [
      "\u001b[1;31m---------------------------------------------------------------------------\u001b[0m",
      "\u001b[1;31mUnimplementedError\u001b[0m                        Traceback (most recent call last)",
      "\u001b[1;32m~\\AppData\\Local\\Temp/ipykernel_9292/2122585601.py\u001b[0m in \u001b[0;36m<module>\u001b[1;34m\u001b[0m\n\u001b[1;32m----> 1\u001b[1;33m \u001b[0mprint\u001b[0m\u001b[1;33m(\u001b[0m\u001b[0mpredict\u001b[0m\u001b[1;33m(\u001b[0m\u001b[1;34m\"CHETAN/MY_Image/MY_TEST/test_mark7.jpg\"\u001b[0m\u001b[1;33m)\u001b[0m\u001b[1;33m)\u001b[0m\u001b[1;33m\u001b[0m\u001b[1;33m\u001b[0m\u001b[0m\n\u001b[0m",
      "\u001b[1;32m~\\AppData\\Local\\Temp/ipykernel_9292/3882345652.py\u001b[0m in \u001b[0;36mpredict\u001b[1;34m(path)\u001b[0m\n\u001b[0;32m      1\u001b[0m \u001b[1;32mdef\u001b[0m \u001b[0mpredict\u001b[0m\u001b[1;33m(\u001b[0m\u001b[0mpath\u001b[0m\u001b[1;33m)\u001b[0m\u001b[1;33m:\u001b[0m\u001b[1;33m\u001b[0m\u001b[1;33m\u001b[0m\u001b[0m\n\u001b[0;32m      2\u001b[0m     \u001b[0mpreprocessedImage\u001b[0m \u001b[1;33m=\u001b[0m \u001b[0mprepocessImage\u001b[0m\u001b[1;33m(\u001b[0m\u001b[0mpath\u001b[0m\u001b[1;33m)\u001b[0m\u001b[1;33m\u001b[0m\u001b[1;33m\u001b[0m\u001b[0m\n\u001b[1;32m----> 3\u001b[1;33m     \u001b[0my\u001b[0m \u001b[1;33m=\u001b[0m \u001b[0mmodelCNN\u001b[0m\u001b[1;33m.\u001b[0m\u001b[0mpredict\u001b[0m\u001b[1;33m(\u001b[0m\u001b[0mpreprocessedImage\u001b[0m\u001b[1;33m)\u001b[0m\u001b[1;33m\u001b[0m\u001b[1;33m\u001b[0m\u001b[0m\n\u001b[0m\u001b[0;32m      4\u001b[0m     \u001b[0mprint\u001b[0m\u001b[1;33m(\u001b[0m\u001b[0my\u001b[0m\u001b[1;33m)\u001b[0m\u001b[1;33m\u001b[0m\u001b[1;33m\u001b[0m\u001b[0m\n\u001b[0;32m      5\u001b[0m     \u001b[0mindex\u001b[0m \u001b[1;33m=\u001b[0m \u001b[0mnp\u001b[0m\u001b[1;33m.\u001b[0m\u001b[0margmax\u001b[0m\u001b[1;33m(\u001b[0m\u001b[0my\u001b[0m\u001b[1;33m)\u001b[0m\u001b[1;33m\u001b[0m\u001b[1;33m\u001b[0m\u001b[0m\n",
      "\u001b[1;32m~\\AppData\\Roaming\\Python\\Python39\\site-packages\\keras\\utils\\traceback_utils.py\u001b[0m in \u001b[0;36merror_handler\u001b[1;34m(*args, **kwargs)\u001b[0m\n\u001b[0;32m     65\u001b[0m     \u001b[1;32mexcept\u001b[0m \u001b[0mException\u001b[0m \u001b[1;32mas\u001b[0m \u001b[0me\u001b[0m\u001b[1;33m:\u001b[0m  \u001b[1;31m# pylint: disable=broad-except\u001b[0m\u001b[1;33m\u001b[0m\u001b[1;33m\u001b[0m\u001b[0m\n\u001b[0;32m     66\u001b[0m       \u001b[0mfiltered_tb\u001b[0m \u001b[1;33m=\u001b[0m \u001b[0m_process_traceback_frames\u001b[0m\u001b[1;33m(\u001b[0m\u001b[0me\u001b[0m\u001b[1;33m.\u001b[0m\u001b[0m__traceback__\u001b[0m\u001b[1;33m)\u001b[0m\u001b[1;33m\u001b[0m\u001b[1;33m\u001b[0m\u001b[0m\n\u001b[1;32m---> 67\u001b[1;33m       \u001b[1;32mraise\u001b[0m \u001b[0me\u001b[0m\u001b[1;33m.\u001b[0m\u001b[0mwith_traceback\u001b[0m\u001b[1;33m(\u001b[0m\u001b[0mfiltered_tb\u001b[0m\u001b[1;33m)\u001b[0m \u001b[1;32mfrom\u001b[0m \u001b[1;32mNone\u001b[0m\u001b[1;33m\u001b[0m\u001b[1;33m\u001b[0m\u001b[0m\n\u001b[0m\u001b[0;32m     68\u001b[0m     \u001b[1;32mfinally\u001b[0m\u001b[1;33m:\u001b[0m\u001b[1;33m\u001b[0m\u001b[1;33m\u001b[0m\u001b[0m\n\u001b[0;32m     69\u001b[0m       \u001b[1;32mdel\u001b[0m \u001b[0mfiltered_tb\u001b[0m\u001b[1;33m\u001b[0m\u001b[1;33m\u001b[0m\u001b[0m\n",
      "\u001b[1;32m~\\AppData\\Roaming\\Python\\Python39\\site-packages\\tensorflow\\python\\eager\\execute.py\u001b[0m in \u001b[0;36mquick_execute\u001b[1;34m(op_name, num_outputs, inputs, attrs, ctx, name)\u001b[0m\n\u001b[0;32m     56\u001b[0m   \u001b[1;32mtry\u001b[0m\u001b[1;33m:\u001b[0m\u001b[1;33m\u001b[0m\u001b[1;33m\u001b[0m\u001b[0m\n\u001b[0;32m     57\u001b[0m     \u001b[0mctx\u001b[0m\u001b[1;33m.\u001b[0m\u001b[0mensure_initialized\u001b[0m\u001b[1;33m(\u001b[0m\u001b[1;33m)\u001b[0m\u001b[1;33m\u001b[0m\u001b[1;33m\u001b[0m\u001b[0m\n\u001b[1;32m---> 58\u001b[1;33m     tensors = pywrap_tfe.TFE_Py_Execute(ctx._handle, device_name, op_name,\n\u001b[0m\u001b[0;32m     59\u001b[0m                                         inputs, attrs, num_outputs)\n\u001b[0;32m     60\u001b[0m   \u001b[1;32mexcept\u001b[0m \u001b[0mcore\u001b[0m\u001b[1;33m.\u001b[0m\u001b[0m_NotOkStatusException\u001b[0m \u001b[1;32mas\u001b[0m \u001b[0me\u001b[0m\u001b[1;33m:\u001b[0m\u001b[1;33m\u001b[0m\u001b[1;33m\u001b[0m\u001b[0m\n",
      "\u001b[1;31mUnimplementedError\u001b[0m:  Fused conv implementation does not support grouped convolutions for now.\n\t [[node sequential/conv2d/Relu\n (defined at C:\\Users\\cheta\\AppData\\Roaming\\Python\\Python39\\site-packages\\keras\\backend.py:4867)\n]] [Op:__inference_predict_function_17523]\n\nErrors may have originated from an input operation.\nInput Source operations connected to node sequential/conv2d/Relu:\nIn[0] sequential/conv2d/BiasAdd (defined at C:\\Users\\cheta\\AppData\\Roaming\\Python\\Python39\\site-packages\\keras\\layers\\convolutional.py:264)\n\nOperation defined at: (most recent call last)\n>>>   File \"C:\\Program Files\\Python39\\lib\\runpy.py\", line 197, in _run_module_as_main\n>>>     return _run_code(code, main_globals, None,\n>>> \n>>>   File \"C:\\Program Files\\Python39\\lib\\runpy.py\", line 87, in _run_code\n>>>     exec(code, run_globals)\n>>> \n>>>   File \"C:\\Users\\cheta\\AppData\\Roaming\\Python\\Python39\\site-packages\\ipykernel_launcher.py\", line 16, in <module>\n>>>     app.launch_new_instance()\n>>> \n>>>   File \"C:\\Users\\cheta\\AppData\\Roaming\\Python\\Python39\\site-packages\\traitlets\\config\\application.py\", line 846, in launch_instance\n>>>     app.start()\n>>> \n>>>   File \"C:\\Users\\cheta\\AppData\\Roaming\\Python\\Python39\\site-packages\\ipykernel\\kernelapp.py\", line 677, in start\n>>>     self.io_loop.start()\n>>> \n>>>   File \"C:\\Users\\cheta\\AppData\\Roaming\\Python\\Python39\\site-packages\\tornado\\platform\\asyncio.py\", line 199, in start\n>>>     self.asyncio_loop.run_forever()\n>>> \n>>>   File \"C:\\Program Files\\Python39\\lib\\asyncio\\base_events.py\", line 596, in run_forever\n>>>     self._run_once()\n>>> \n>>>   File \"C:\\Program Files\\Python39\\lib\\asyncio\\base_events.py\", line 1890, in _run_once\n>>>     handle._run()\n>>> \n>>>   File \"C:\\Program Files\\Python39\\lib\\asyncio\\events.py\", line 80, in _run\n>>>     self._context.run(self._callback, *self._args)\n>>> \n>>>   File \"C:\\Users\\cheta\\AppData\\Roaming\\Python\\Python39\\site-packages\\ipykernel\\kernelbase.py\", line 457, in dispatch_queue\n>>>     await self.process_one()\n>>> \n>>>   File \"C:\\Users\\cheta\\AppData\\Roaming\\Python\\Python39\\site-packages\\ipykernel\\kernelbase.py\", line 446, in process_one\n>>>     await dispatch(*args)\n>>> \n>>>   File \"C:\\Users\\cheta\\AppData\\Roaming\\Python\\Python39\\site-packages\\ipykernel\\kernelbase.py\", line 353, in dispatch_shell\n>>>     await result\n>>> \n>>>   File \"C:\\Users\\cheta\\AppData\\Roaming\\Python\\Python39\\site-packages\\ipykernel\\kernelbase.py\", line 648, in execute_request\n>>>     reply_content = await reply_content\n>>> \n>>>   File \"C:\\Users\\cheta\\AppData\\Roaming\\Python\\Python39\\site-packages\\ipykernel\\ipkernel.py\", line 353, in do_execute\n>>>     res = shell.run_cell(code, store_history=store_history, silent=silent)\n>>> \n>>>   File \"C:\\Users\\cheta\\AppData\\Roaming\\Python\\Python39\\site-packages\\ipykernel\\zmqshell.py\", line 533, in run_cell\n>>>     return super(ZMQInteractiveShell, self).run_cell(*args, **kwargs)\n>>> \n>>>   File \"C:\\Users\\cheta\\AppData\\Roaming\\Python\\Python39\\site-packages\\IPython\\core\\interactiveshell.py\", line 2914, in run_cell\n>>>     result = self._run_cell(\n>>> \n>>>   File \"C:\\Users\\cheta\\AppData\\Roaming\\Python\\Python39\\site-packages\\IPython\\core\\interactiveshell.py\", line 2960, in _run_cell\n>>>     return runner(coro)\n>>> \n>>>   File \"C:\\Users\\cheta\\AppData\\Roaming\\Python\\Python39\\site-packages\\IPython\\core\\async_helpers.py\", line 78, in _pseudo_sync_runner\n>>>     coro.send(None)\n>>> \n>>>   File \"C:\\Users\\cheta\\AppData\\Roaming\\Python\\Python39\\site-packages\\IPython\\core\\interactiveshell.py\", line 3185, in run_cell_async\n>>>     has_raised = await self.run_ast_nodes(code_ast.body, cell_name,\n>>> \n>>>   File \"C:\\Users\\cheta\\AppData\\Roaming\\Python\\Python39\\site-packages\\IPython\\core\\interactiveshell.py\", line 3377, in run_ast_nodes\n>>>     if (await self.run_code(code, result,  async_=asy)):\n>>> \n>>>   File \"C:\\Users\\cheta\\AppData\\Roaming\\Python\\Python39\\site-packages\\IPython\\core\\interactiveshell.py\", line 3457, in run_code\n>>>     exec(code_obj, self.user_global_ns, self.user_ns)\n>>> \n>>>   File \"C:\\Users\\cheta\\AppData\\Local\\Temp/ipykernel_9292/2122585601.py\", line 1, in <module>\n>>>     print(predict(\"CHETAN/MY_Image/MY_TEST/test_mark7.jpg\"))\n>>> \n>>>   File \"C:\\Users\\cheta\\AppData\\Local\\Temp/ipykernel_9292/3882345652.py\", line 3, in predict\n>>>     y = modelCNN.predict(preprocessedImage)\n>>> \n>>>   File \"C:\\Users\\cheta\\AppData\\Roaming\\Python\\Python39\\site-packages\\keras\\utils\\traceback_utils.py\", line 64, in error_handler\n>>>     return fn(*args, **kwargs)\n>>> \n>>>   File \"C:\\Users\\cheta\\AppData\\Roaming\\Python\\Python39\\site-packages\\keras\\engine\\training.py\", line 1789, in predict\n>>>     tmp_batch_outputs = self.predict_function(iterator)\n>>> \n>>>   File \"C:\\Users\\cheta\\AppData\\Roaming\\Python\\Python39\\site-packages\\keras\\engine\\training.py\", line 1621, in predict_function\n>>>     return step_function(self, iterator)\n>>> \n>>>   File \"C:\\Users\\cheta\\AppData\\Roaming\\Python\\Python39\\site-packages\\keras\\engine\\training.py\", line 1611, in step_function\n>>>     outputs = model.distribute_strategy.run(run_step, args=(data,))\n>>> \n>>>   File \"C:\\Users\\cheta\\AppData\\Roaming\\Python\\Python39\\site-packages\\keras\\engine\\training.py\", line 1604, in run_step\n>>>     outputs = model.predict_step(data)\n>>> \n>>>   File \"C:\\Users\\cheta\\AppData\\Roaming\\Python\\Python39\\site-packages\\keras\\engine\\training.py\", line 1572, in predict_step\n>>>     return self(x, training=False)\n>>> \n>>>   File \"C:\\Users\\cheta\\AppData\\Roaming\\Python\\Python39\\site-packages\\keras\\utils\\traceback_utils.py\", line 64, in error_handler\n>>>     return fn(*args, **kwargs)\n>>> \n>>>   File \"C:\\Users\\cheta\\AppData\\Roaming\\Python\\Python39\\site-packages\\keras\\engine\\base_layer.py\", line 1083, in __call__\n>>>     outputs = call_fn(inputs, *args, **kwargs)\n>>> \n>>>   File \"C:\\Users\\cheta\\AppData\\Roaming\\Python\\Python39\\site-packages\\keras\\utils\\traceback_utils.py\", line 92, in error_handler\n>>>     return fn(*args, **kwargs)\n>>> \n>>>   File \"C:\\Users\\cheta\\AppData\\Roaming\\Python\\Python39\\site-packages\\keras\\engine\\sequential.py\", line 373, in call\n>>>     return super(Sequential, self).call(inputs, training=training, mask=mask)\n>>> \n>>>   File \"C:\\Users\\cheta\\AppData\\Roaming\\Python\\Python39\\site-packages\\keras\\engine\\functional.py\", line 451, in call\n>>>     return self._run_internal_graph(\n>>> \n>>>   File \"C:\\Users\\cheta\\AppData\\Roaming\\Python\\Python39\\site-packages\\keras\\engine\\functional.py\", line 589, in _run_internal_graph\n>>>     outputs = node.layer(*args, **kwargs)\n>>> \n>>>   File \"C:\\Users\\cheta\\AppData\\Roaming\\Python\\Python39\\site-packages\\keras\\utils\\traceback_utils.py\", line 64, in error_handler\n>>>     return fn(*args, **kwargs)\n>>> \n>>>   File \"C:\\Users\\cheta\\AppData\\Roaming\\Python\\Python39\\site-packages\\keras\\engine\\base_layer.py\", line 1083, in __call__\n>>>     outputs = call_fn(inputs, *args, **kwargs)\n>>> \n>>>   File \"C:\\Users\\cheta\\AppData\\Roaming\\Python\\Python39\\site-packages\\keras\\utils\\traceback_utils.py\", line 92, in error_handler\n>>>     return fn(*args, **kwargs)\n>>> \n>>>   File \"C:\\Users\\cheta\\AppData\\Roaming\\Python\\Python39\\site-packages\\keras\\layers\\convolutional.py\", line 273, in call\n>>>     return self.activation(outputs)\n>>> \n>>>   File \"C:\\Users\\cheta\\AppData\\Roaming\\Python\\Python39\\site-packages\\keras\\activations.py\", line 311, in relu\n>>>     return backend.relu(x, alpha=alpha, max_value=max_value, threshold=threshold)\n>>> \n>>>   File \"C:\\Users\\cheta\\AppData\\Roaming\\Python\\Python39\\site-packages\\keras\\backend.py\", line 4867, in relu\n>>>     x = tf.nn.relu(x)\n>>> "
     ]
    }
   ],
   "source": [
    "print(predict(\"CHETAN/MY_Image/MY_TEST/test_mark7.jpg\"))"
   ]
  },
  {
   "cell_type": "code",
   "execution_count": 28,
   "id": "097a432b",
   "metadata": {
    "scrolled": false
   },
   "outputs": [
    {
     "name": "stdout",
     "output_type": "stream",
     "text": [
      "cataract (12).jpg : Severe Cataract\n",
      "cataract (13).jpg : Severe Cataract\n",
      "cataract (14).jpg : Severe Cataract\n",
      "demo_camera.jpeg : Normal\n",
      "nishi_2_0.jpg : Severe Cataract\n",
      "normal (84).jpg : Mild Cataract\n",
      "normal (85).jpg : Normal\n",
      "normal (86).jpg : Normal\n",
      "test101.jpg : Normal\n",
      "test_mark2.jpg : Mild Cataract\n",
      "test_mark3.jpg : Severe Cataract\n",
      "test_mark4.jpg : Normal\n",
      "test_mark5.jpg : Normal\n",
      "test_mark6.jpg : Normal\n",
      "test_mark7.jpg : Mild Cataract\n",
      "test_mark8.jpg : Normal\n",
      "test_mark9.jpg : Severe Cataract\n",
      "test_mark_g1.jpg : Mild Cataract\n",
      "test_mark_g2.jpg : Severe Cataract\n",
      "womans-eye-with-cataract-2.5-scaled.jpeg : Severe Cataract\n"
     ]
    }
   ],
   "source": [
    "for i in os.listdir(\"CHETAN/MY_Image/MY_TEST/\"):\n",
    "    print(i+\" : \"+predict(\"CHETAN/MY_Image/MY_TEST/\" + i))"
   ]
  },
  {
   "cell_type": "code",
   "execution_count": null,
   "id": "254d21fc",
   "metadata": {},
   "outputs": [],
   "source": []
  },
  {
   "cell_type": "code",
   "execution_count": null,
   "id": "0161909f",
   "metadata": {},
   "outputs": [],
   "source": []
  },
  {
   "cell_type": "code",
   "execution_count": null,
   "id": "2ffbd66e",
   "metadata": {},
   "outputs": [],
   "source": []
  },
  {
   "cell_type": "code",
   "execution_count": null,
   "id": "e729c7b2",
   "metadata": {},
   "outputs": [],
   "source": []
  },
  {
   "cell_type": "code",
   "execution_count": null,
   "id": "6ebe6e63",
   "metadata": {},
   "outputs": [],
   "source": []
  }
 ],
 "metadata": {
  "kernelspec": {
   "display_name": "Python 3 (ipykernel)",
   "language": "python",
   "name": "python3"
  },
  "language_info": {
   "codemirror_mode": {
    "name": "ipython",
    "version": 3
   },
   "file_extension": ".py",
   "mimetype": "text/x-python",
   "name": "python",
   "nbconvert_exporter": "python",
   "pygments_lexer": "ipython3",
   "version": "3.9.7"
  }
 },
 "nbformat": 4,
 "nbformat_minor": 5
}
