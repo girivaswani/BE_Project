{
 "cells": [
  {
   "cell_type": "markdown",
   "id": "fe81cece",
   "metadata": {},
   "source": [
    "# Import Files"
   ]
  },
  {
   "cell_type": "code",
   "execution_count": 1,
   "id": "813e2105",
   "metadata": {},
   "outputs": [
    {
     "name": "stdout",
     "output_type": "stream",
     "text": [
      "97 images loaded\n"
     ]
    }
   ],
   "source": [
    "from os import listdir\n",
    "from os.path import isfile, join\n",
    "mypath = \"../images\"\n",
    "file_names = [f for f in listdir(mypath) if isfile(join(mypath, f))]\n",
    "print(str(len(file_names)) + ' images loaded')"
   ]
  },
  {
   "cell_type": "markdown",
   "id": "71297e06",
   "metadata": {},
   "source": [
    "# Sift and Glcm "
   ]
  },
  {
   "cell_type": "code",
   "execution_count": 2,
   "id": "8997774e",
   "metadata": {},
   "outputs": [
    {
     "name": "stdout",
     "output_type": "stream",
     "text": [
      "Testing and validation split done!\n"
     ]
    }
   ],
   "source": [
    "import cv2\n",
    "import numpy as np\n",
    "from skimage.feature import  graycomatrix, graycoprops\n",
    "images_sift = []\n",
    "glcm=[]\n",
    "labels = []\n",
    "size = 128\n",
    "sift = cv2.SIFT_create()\n",
    "cataract=0\n",
    "normal=0\n",
    "for i, file in enumerate(file_names):\n",
    "        image = cv2.imread(mypath+\"/\"+file,0)\n",
    "        h,w=image.shape\n",
    "#         if(h>128 and w>128):\n",
    "        image = cv2.resize(image, (size, size), interpolation = cv2.INTER_AREA)\n",
    "        img_arr = np.array(image)\n",
    "        gCoMat = graycomatrix(img_arr, [1], [0],256,symmetric=True, normed=True) # Co-occurance matrix\n",
    "        contrast = graycoprops(gCoMat, prop='contrast')[0][0]\n",
    "        dissimilarity = graycoprops(gCoMat, prop='dissimilarity')[0][0]\n",
    "        homogeneity = graycoprops(gCoMat, prop='homogeneity')[0][0]\n",
    "        energy = graycoprops(gCoMat, prop='energy')[0][0]\n",
    "        correlation = graycoprops(gCoMat, prop='correlation')[0][0]\n",
    "        keypoints, descriptors = sift.detectAndCompute(image,None)\n",
    "        descriptors=np.array(descriptors)\n",
    "        descriptors=descriptors.flatten()\n",
    "        glcm.append([contrast,dissimilarity,homogeneity,energy,correlation])\n",
    "        images_sift.append(descriptors[:2304])\n",
    "\n",
    "        #print(descriptors.shape)\n",
    "        if file_names[i][0] == \"c\":\n",
    "            cataract+=1\n",
    "            labels.append(1)\n",
    "        if file_names[i][0] == \"n\":\n",
    "            normal+=1\n",
    "            labels.append(0)\n",
    "\n",
    "print(\"Testing and validation split done!\")\n"
   ]
  },
  {
   "cell_type": "code",
   "execution_count": 3,
   "id": "61e0aedc",
   "metadata": {},
   "outputs": [
    {
     "data": {
      "text/plain": [
       "[1,\n",
       " 1,\n",
       " 1,\n",
       " 1,\n",
       " 1,\n",
       " 1,\n",
       " 1,\n",
       " 1,\n",
       " 1,\n",
       " 1,\n",
       " 1,\n",
       " 1,\n",
       " 1,\n",
       " 1,\n",
       " 1,\n",
       " 1,\n",
       " 1,\n",
       " 1,\n",
       " 1,\n",
       " 1,\n",
       " 1,\n",
       " 1,\n",
       " 1,\n",
       " 1,\n",
       " 1,\n",
       " 1,\n",
       " 1,\n",
       " 1,\n",
       " 1,\n",
       " 1,\n",
       " 1,\n",
       " 1,\n",
       " 1,\n",
       " 1,\n",
       " 1,\n",
       " 1,\n",
       " 1,\n",
       " 1,\n",
       " 1,\n",
       " 1,\n",
       " 1,\n",
       " 1,\n",
       " 1,\n",
       " 1,\n",
       " 1,\n",
       " 1,\n",
       " 1,\n",
       " 1,\n",
       " 1,\n",
       " 1,\n",
       " 1,\n",
       " 0,\n",
       " 0,\n",
       " 0,\n",
       " 0,\n",
       " 0,\n",
       " 0,\n",
       " 0,\n",
       " 0,\n",
       " 0,\n",
       " 0,\n",
       " 0,\n",
       " 0,\n",
       " 0,\n",
       " 0,\n",
       " 0,\n",
       " 0,\n",
       " 0,\n",
       " 0,\n",
       " 0,\n",
       " 0,\n",
       " 0,\n",
       " 0,\n",
       " 0,\n",
       " 0,\n",
       " 0,\n",
       " 0,\n",
       " 0,\n",
       " 0,\n",
       " 0,\n",
       " 0,\n",
       " 0,\n",
       " 0,\n",
       " 0,\n",
       " 0,\n",
       " 0,\n",
       " 0,\n",
       " 0,\n",
       " 0,\n",
       " 0,\n",
       " 0,\n",
       " 0,\n",
       " 0,\n",
       " 0,\n",
       " 0,\n",
       " 0,\n",
       " 0]"
      ]
     },
     "execution_count": 3,
     "metadata": {},
     "output_type": "execute_result"
    }
   ],
   "source": [
    "labels"
   ]
  },
  {
   "cell_type": "code",
   "execution_count": 4,
   "id": "60ec4466",
   "metadata": {},
   "outputs": [
    {
     "data": {
      "text/plain": [
       "97"
      ]
     },
     "execution_count": 4,
     "metadata": {},
     "output_type": "execute_result"
    }
   ],
   "source": [
    "len(labels)"
   ]
  },
  {
   "cell_type": "code",
   "execution_count": 5,
   "id": "984af0d8",
   "metadata": {},
   "outputs": [
    {
     "data": {
      "text/plain": [
       "(97, 2304)"
      ]
     },
     "execution_count": 5,
     "metadata": {},
     "output_type": "execute_result"
    }
   ],
   "source": [
    "images_sift=np.array(images_sift)\n",
    "images_sift.shape"
   ]
  },
  {
   "cell_type": "code",
   "execution_count": 6,
   "id": "3bce959c",
   "metadata": {},
   "outputs": [
    {
     "data": {
      "text/plain": [
       "(97, 2309)"
      ]
     },
     "execution_count": 6,
     "metadata": {},
     "output_type": "execute_result"
    }
   ],
   "source": [
    "glcm=np.array(glcm)\n",
    "images_sift_glcm=np.concatenate((images_sift,glcm),axis=1)\n",
    "images_sift_glcm.shape"
   ]
  },
  {
   "cell_type": "code",
   "execution_count": null,
   "id": "050016f4",
   "metadata": {},
   "outputs": [],
   "source": []
  }
 ],
 "metadata": {
  "kernelspec": {
   "display_name": "Python 3",
   "language": "python",
   "name": "python3"
  },
  "language_info": {
   "codemirror_mode": {
    "name": "ipython",
    "version": 3
   },
   "file_extension": ".py",
   "mimetype": "text/x-python",
   "name": "python",
   "nbconvert_exporter": "python",
   "pygments_lexer": "ipython3",
   "version": "3.8.3"
  }
 },
 "nbformat": 4,
 "nbformat_minor": 5
}
